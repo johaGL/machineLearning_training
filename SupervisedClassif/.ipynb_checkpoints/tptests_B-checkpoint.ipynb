{
 "cells": [
  {
   "cell_type": "markdown",
   "metadata": {},
   "source": [
    "#### Galvis J\n",
    "# <font color='cadetblue'>SUPERVISED LEARNING (TP-AS)</font> \n",
    "\n",
    "# I. Feature engineering & Classification"
   ]
  },
  {
   "cell_type": "markdown",
   "metadata": {},
   "source": [
    "## I. 1 data preparation"
   ]
  },
  {
   "cell_type": "code",
   "execution_count": 2,
   "metadata": {},
   "outputs": [],
   "source": [
    "import numpy as np\n",
    "np.set_printoptions(threshold=10000,suppress=True)\n",
    "import pandas as pd\n",
    "import warnings\n",
    "import matplotlib.pyplot as plt\n",
    "from sklearn import model_selection\n",
    "warnings.filterwarnings('ignore')"
   ]
  },
  {
   "cell_type": "code",
   "execution_count": 4,
   "metadata": {},
   "outputs": [],
   "source": [
    "# preparing the data\n",
    "credd = pd.read_csv(\"credit_scoring.csv\", sep=\";\", header=0)"
   ]
  },
  {
   "cell_type": "code",
   "execution_count": 5,
   "metadata": {},
   "outputs": [
    {
     "data": {
      "text/html": [
       "<div>\n",
       "<style scoped>\n",
       "    .dataframe tbody tr th:only-of-type {\n",
       "        vertical-align: middle;\n",
       "    }\n",
       "\n",
       "    .dataframe tbody tr th {\n",
       "        vertical-align: top;\n",
       "    }\n",
       "\n",
       "    .dataframe thead th {\n",
       "        text-align: right;\n",
       "    }\n",
       "</style>\n",
       "<table border=\"1\" class=\"dataframe\">\n",
       "  <thead>\n",
       "    <tr style=\"text-align: right;\">\n",
       "      <th></th>\n",
       "      <th>Seniority</th>\n",
       "      <th>Home</th>\n",
       "      <th>Time</th>\n",
       "      <th>Age</th>\n",
       "      <th>Marital</th>\n",
       "      <th>Records</th>\n",
       "      <th>Job</th>\n",
       "      <th>Expenses</th>\n",
       "      <th>Income</th>\n",
       "      <th>Assets</th>\n",
       "      <th>Debt</th>\n",
       "      <th>Amount</th>\n",
       "      <th>Price</th>\n",
       "      <th>Status</th>\n",
       "    </tr>\n",
       "  </thead>\n",
       "  <tbody>\n",
       "    <tr>\n",
       "      <th>0</th>\n",
       "      <td>9.0</td>\n",
       "      <td>1.0</td>\n",
       "      <td>60.0</td>\n",
       "      <td>30.0</td>\n",
       "      <td>0.0</td>\n",
       "      <td>1.0</td>\n",
       "      <td>1.0</td>\n",
       "      <td>73.0</td>\n",
       "      <td>129.0</td>\n",
       "      <td>0.0</td>\n",
       "      <td>0.0</td>\n",
       "      <td>800.0</td>\n",
       "      <td>846.0</td>\n",
       "      <td>1</td>\n",
       "    </tr>\n",
       "    <tr>\n",
       "      <th>1</th>\n",
       "      <td>17.0</td>\n",
       "      <td>1.0</td>\n",
       "      <td>60.0</td>\n",
       "      <td>58.0</td>\n",
       "      <td>1.0</td>\n",
       "      <td>1.0</td>\n",
       "      <td>0.0</td>\n",
       "      <td>48.0</td>\n",
       "      <td>131.0</td>\n",
       "      <td>0.0</td>\n",
       "      <td>0.0</td>\n",
       "      <td>1000.0</td>\n",
       "      <td>1658.0</td>\n",
       "      <td>1</td>\n",
       "    </tr>\n",
       "    <tr>\n",
       "      <th>2</th>\n",
       "      <td>10.0</td>\n",
       "      <td>0.0</td>\n",
       "      <td>36.0</td>\n",
       "      <td>46.0</td>\n",
       "      <td>0.0</td>\n",
       "      <td>2.0</td>\n",
       "      <td>1.0</td>\n",
       "      <td>90.0</td>\n",
       "      <td>200.0</td>\n",
       "      <td>3000.0</td>\n",
       "      <td>0.0</td>\n",
       "      <td>2000.0</td>\n",
       "      <td>2985.0</td>\n",
       "      <td>0</td>\n",
       "    </tr>\n",
       "  </tbody>\n",
       "</table>\n",
       "</div>"
      ],
      "text/plain": [
       "   Seniority  Home  Time   Age  Marital  Records  Job  Expenses  Income  \\\n",
       "0        9.0   1.0  60.0  30.0      0.0      1.0  1.0      73.0   129.0   \n",
       "1       17.0   1.0  60.0  58.0      1.0      1.0  0.0      48.0   131.0   \n",
       "2       10.0   0.0  36.0  46.0      0.0      2.0  1.0      90.0   200.0   \n",
       "\n",
       "   Assets  Debt  Amount   Price  Status  \n",
       "0     0.0   0.0   800.0   846.0       1  \n",
       "1     0.0   0.0  1000.0  1658.0       1  \n",
       "2  3000.0   0.0  2000.0  2985.0       0  "
      ]
     },
     "execution_count": 5,
     "metadata": {},
     "output_type": "execute_result"
    }
   ],
   "source": [
    "credd.head(3) # variable bi-class 'Status' is the last column"
   ]
  },
  {
   "cell_type": "code",
   "execution_count": 6,
   "metadata": {},
   "outputs": [
    {
     "data": {
      "text/plain": [
       "((4375, 14), 'NA values ==> 0')"
      ]
     },
     "execution_count": 6,
     "metadata": {},
     "output_type": "execute_result"
    }
   ],
   "source": [
    "credd.shape, f\"NA values ==> {credd.isnull().sum().sum()}\" #shape and CHECK IF empty (NaN, NA) cells"
   ]
  },
  {
   "cell_type": "code",
   "execution_count": 7,
   "metadata": {},
   "outputs": [],
   "source": [
    "YstatusPS = credd.pop('Status') # detach this column from df\n",
    "Ystatus = YstatusPS.to_numpy() # the numpy Y vector"
   ]
  },
  {
   "cell_type": "code",
   "execution_count": 8,
   "metadata": {},
   "outputs": [
    {
     "data": {
      "text/plain": [
       "((4375,), (4375, 13))"
      ]
     },
     "execution_count": 8,
     "metadata": {},
     "output_type": "execute_result"
    }
   ],
   "source": [
    "Ystatus.shape, credd.shape # verifying dimensions both objects"
   ]
  },
  {
   "cell_type": "code",
   "execution_count": 9,
   "metadata": {},
   "outputs": [
    {
     "name": "stdout",
     "output_type": "stream",
     "text": [
      "Good payers 72.21 %, Bad payers : 27.79%\n"
     ]
    }
   ],
   "source": [
    "GP = 100*np.sum(Ystatus==1)/len(Ystatus) #good payers\n",
    "BP = 100*np.sum(Ystatus==0)/len(Ystatus) #bad payers\n",
    "print ('Good payers {0:.2f} %, Bad payers : {1:.2f}%'.format(GP,BP))"
   ]
  },
  {
   "cell_type": "code",
   "execution_count": 10,
   "metadata": {},
   "outputs": [
    {
     "data": {
      "text/plain": [
       "(4375, 13)"
      ]
     },
     "execution_count": 10,
     "metadata": {},
     "output_type": "execute_result"
    }
   ],
   "source": [
    "Xcred = credd.values  # the numpy X array\n",
    "Xcred.shape"
   ]
  },
  {
   "cell_type": "code",
   "execution_count": 11,
   "metadata": {},
   "outputs": [],
   "source": [
    "labels = np.array([i for i in credd.head(0)])"
   ]
  },
  {
   "cell_type": "code",
   "execution_count": 12,
   "metadata": {},
   "outputs": [],
   "source": [
    "# split X into two matrices, same for Y vector.\n",
    "# '_train' dataset is for learning phase and '_test' dataset is for prediction\n",
    "Xcr_train, Xcr_test, Ycr_train, Ycr_test = model_selection.train_test_split(\n",
    "Xcred, Ystatus, test_size=0.5, random_state=1) # random_state :  effect on the reproducibility of the results"
   ]
  },
  {
   "cell_type": "markdown",
   "metadata": {},
   "source": [
    "## I.2 Learning and evaluating models\n",
    "Applying CART, KNN and Multilayer Perceptron to raw matrix"
   ]
  },
  {
   "cell_type": "code",
   "execution_count": 4,
   "metadata": {},
   "outputs": [],
   "source": [
    "from sklearn.tree import DecisionTreeClassifier\n",
    "from sklearn.neighbors import KNeighborsClassifier\n",
    "from sklearn.neural_network import MLPClassifier\n",
    "from sklearn import tree\n",
    "from sklearn.metrics import confusion_matrix, accuracy_score, precision_score, recall_score\n",
    "from sklearn.preprocessing import StandardScaler, MinMaxScaler"
   ]
  },
  {
   "cell_type": "code",
   "execution_count": 16,
   "metadata": {},
   "outputs": [
    {
     "data": {
      "text/plain": [
       "DecisionTreeClassifier(random_state=1)"
      ]
     },
     "execution_count": 16,
     "metadata": {},
     "output_type": "execute_result"
    }
   ],
   "source": [
    "dtc = DecisionTreeClassifier(random_state=1) # \"Gini\" is default\n",
    "dtc.fit(Xcr_train, Ycr_train) \n",
    "# normalization not compulsory, but missing values can yield errors. Already checked above\n"
   ]
  },
  {
   "cell_type": "code",
   "execution_count": 17,
   "metadata": {},
   "outputs": [],
   "source": [
    "#fig = plt.figure()\n",
    "#_ = tree.plot_tree(dtc)\n",
    "#fig.show(_)"
   ]
  },
  {
   "cell_type": "markdown",
   "metadata": {},
   "source": [
    "this tree is wide and deep, in this case one solution can be pruning the tree, for the moment we will check predictions using the model without prunning."
   ]
  },
  {
   "cell_type": "code",
   "execution_count": 18,
   "metadata": {
    "scrolled": true
   },
   "outputs": [
    {
     "name": "stdout",
     "output_type": "stream",
     "text": [
      "[[ 325  279]\n",
      " [ 318 1266]]\n"
     ]
    }
   ],
   "source": [
    "predicted = dtc.predict(Xcr_test)\n",
    "print(confusion_matrix(Ycr_test, predicted))"
   ]
  },
  {
   "cell_type": "code",
   "execution_count": 19,
   "metadata": {},
   "outputs": [
    {
     "name": "stdout",
     "output_type": "stream",
     "text": [
      "318\n"
     ]
    }
   ],
   "source": [
    "print(len([t for t,p in zip(Ycr_test, predicted) if t == 1 and t != p])) # pred 0 when test 1  == FN"
   ]
  },
  {
   "cell_type": "code",
   "execution_count": 20,
   "metadata": {},
   "outputs": [
    {
     "name": "stdout",
     "output_type": "stream",
     "text": [
      "[[ 325  279]\n",
      " [ 318 1266]]\n",
      "is my accuracy equal to metrics.accuracy_score?: True\n",
      "is my accuracy equal to metrics.recall_score?: True\n"
     ]
    }
   ],
   "source": [
    "def getcalcCM(confusionMat, poplength): #confusion matrix MUST EXIST in this order (TEST, predicted)\n",
    "    specificity = confusionMat[0,0] / confusionMat[0].sum() #TN/TN+FP\n",
    "    precision = confusionMat[1,1] / (confusionMat[0,1]+confusionMat[1,1]) # TP/(TP+FP)\n",
    "    accuracy = (confusionMat[0,0]+confusionMat[1,1]) / poplength  \n",
    "    recall =  confusionMat[1,1] / confusionMat[1].sum()\n",
    "    return accuracy, precision, recall, specificity\n",
    "# check my estimators custom function is ok:\n",
    "CM = confusion_matrix(Ycr_test, predicted)\n",
    "print(CM)\n",
    "m,n,r,s = getcalcCM(CM, len(Ycr_test))\n",
    "print(\"is my accuracy equal to metrics.accuracy_score?: {}\".format(m == accuracy_score(Ycr_test,predicted)))\n",
    "print(\"is my accuracy equal to metrics.recall_score?: {}\".format(r == recall_score(Ycr_test,predicted)))"
   ]
  },
  {
   "cell_type": "code",
   "execution_count": 21,
   "metadata": {},
   "outputs": [],
   "source": [
    "# COMPARING THREE CLASSIFIERS : CART, KNN, MLP\n",
    "def CART_KNN_MLP(Xtrain, Xtest, Ytrain, Ytest):\n",
    "    dtc = DecisionTreeClassifier(random_state=1) # \"Gini\" is default\n",
    "    dtc.fit(Xtrain, Ytrain) \n",
    "    pred_tree = dtc.predict(Xtest)\n",
    "    C = confusion_matrix(Ytest,pred_tree)\n",
    "    print('CART (decision tree)')\n",
    "    acc, pr, rc, sp = getcalcCM(C, len(Ytest))\n",
    "    print('  accuracy:{0:.2f}%, precision : {1:.2f}%, recall : {2:.2f}%'.format(acc*100, pr*100, rc*100))\n",
    "    \n",
    "    knnmod = KNeighborsClassifier(n_neighbors = 5)\n",
    "    knnmod.fit(Xtrain, Ytrain)\n",
    "    predicted_knn = knnmod.predict(Xtest)\n",
    "    print('KNN, 5 neighbors')\n",
    "    C = confusion_matrix(Ytest, predicted_knn)\n",
    "    acc, pr, rc, sp = getcalcCM(C, len(Ytest))\n",
    "    print('  accuracy:{0:.2f}%, precision : {1:.2f}%, recall : {2:.2f}%'.format(acc*100, pr*100, rc*100))\n",
    "    \n",
    "    mlpcla = MLPClassifier(solver='lbfgs', alpha=1e-5, hidden_layer_sizes=(40,20), random_state=1)\n",
    "    mlpcla.fit(Xtrain, Ytrain)\n",
    "    predicted_mlp = mlpcla.predict(Xtest)\n",
    "    print('MLP: 2 layers (40,20)')\n",
    "    C = confusion_matrix(Ytest, predicted_mlp)\n",
    "    acc, pr, rc, sp = getcalcCM(C, len(Ytest))\n",
    "    print('  accuracy:{0:.2f}%, precision : {1:.2f}%, recall : {2:.2f}%'.format(acc*100, pr*100, rc*100))\n",
    "    return 'ended function'"
   ]
  },
  {
   "cell_type": "code",
   "execution_count": 23,
   "metadata": {
    "scrolled": true
   },
   "outputs": [
    {
     "name": "stdout",
     "output_type": "stream",
     "text": [
      "CART (decision tree)\n",
      "  accuracy:72.71%, precision : 81.94%, recall : 79.92%\n",
      "KNN, 5 neighbors\n",
      "  accuracy:72.49%, precision : 77.10%, recall : 88.19%\n",
      "MLP: 2 layers (40,20)\n",
      "  accuracy:72.39%, precision : 72.39%, recall : 100.00%\n"
     ]
    },
    {
     "data": {
      "text/plain": [
       "'ended function'"
      ]
     },
     "execution_count": 23,
     "metadata": {},
     "output_type": "execute_result"
    }
   ],
   "source": [
    "# COMPARING THESE THREE CLASSIFIERS\n",
    "CART_KNN_MLP(Xcr_train, Xcr_test, Ycr_train, Ycr_test)"
   ]
  },
  {
   "cell_type": "markdown",
   "metadata": {},
   "source": [
    " I think, for predicting the clients suitable to be receive a credit approval,  we need a higher **precision** rate, because even if we reject people who maybe would in reality be good credit payers,\n",
    "we do not want to risk in lending money to any single person that is likely not going to pay. A small set of clients with unpaid debts can potentially sum up big amounts of money, so we prefer to be highly selective. (Let's suppose a recently founded ethical bank is involved in this exercice, on the other hand a huge corp that can afford risks would prefer recall to be maximised).\n",
    "\n",
    "In an opposite exemple, to detect a disease, we'd prefere to have a high recall even if \n",
    "precision is low, as we wont want to take the risk of letting people die because under-diagnosis.\n"
   ]
  },
  {
   "cell_type": "markdown",
   "metadata": {},
   "source": [
    "## I.3 NORMALIZED DATA :  running again CART, KNN and MLP"
   ]
  },
  {
   "cell_type": "code",
   "execution_count": 24,
   "metadata": {},
   "outputs": [],
   "source": [
    "scaler = StandardScaler()\n",
    "Xnorm_train  = scaler.fit_transform(Xcr_train)\n",
    "# learn scale params first, so they can be used later when scaling 'test' data\n",
    "Xnorm_test = scaler.transform(Xcr_test)"
   ]
  },
  {
   "cell_type": "code",
   "execution_count": 25,
   "metadata": {
    "scrolled": true
   },
   "outputs": [
    {
     "name": "stdout",
     "output_type": "stream",
     "text": [
      "CART (decision tree)\n",
      "  accuracy:72.71%, precision : 81.82%, recall : 80.11%\n",
      "KNN, 5 neighbors\n",
      "  accuracy:75.27%, precision : 81.06%, recall : 85.92%\n",
      "MLP: 2 layers (40,20)\n",
      "  accuracy:72.30%, precision : 81.84%, recall : 79.36%\n"
     ]
    },
    {
     "data": {
      "text/plain": [
       "'ended function'"
      ]
     },
     "execution_count": 25,
     "metadata": {},
     "output_type": "execute_result"
    }
   ],
   "source": [
    "CART_KNN_MLP(Xnorm_train, Xnorm_test, Ycr_train, Ycr_test)"
   ]
  },
  {
   "cell_type": "markdown",
   "metadata": {},
   "source": [
    "## I.4 Adding new variables from PCA\n",
    "These variables are linear combinations of original variables"
   ]
  },
  {
   "cell_type": "code",
   "execution_count": 26,
   "metadata": {},
   "outputs": [],
   "source": [
    "from sklearn.decomposition import PCA"
   ]
  },
  {
   "cell_type": "code",
   "execution_count": 27,
   "metadata": {},
   "outputs": [
    {
     "data": {
      "text/plain": [
       "(2187, 16)"
      ]
     },
     "execution_count": 27,
     "metadata": {},
     "output_type": "execute_result"
    }
   ],
   "source": [
    "pca = PCA(n_components=3)\n",
    "pca.fit(Xnorm_train) # here training set only\n",
    "Xpca_train = pca.transform(Xnorm_train) \n",
    "Xpca_train = np.concatenate((Xpca_train,Xnorm_train), axis=1)\n",
    "Xpca_train.shape"
   ]
  },
  {
   "cell_type": "code",
   "execution_count": 28,
   "metadata": {},
   "outputs": [
    {
     "data": {
      "text/plain": [
       "(2188, 16)"
      ]
     },
     "execution_count": 28,
     "metadata": {},
     "output_type": "execute_result"
    }
   ],
   "source": [
    "Xpca_test = pca.transform(Xnorm_test)\n",
    "Xpca_test = np.concatenate((Xpca_test,Xnorm_test), axis=1)\n",
    "Xpca_test.shape"
   ]
  },
  {
   "cell_type": "code",
   "execution_count": 49,
   "metadata": {},
   "outputs": [
    {
     "name": "stdout",
     "output_type": "stream",
     "text": [
      "CART (decision tree)\n",
      "  accuracy:72.71%, precision : 81.82%, recall : 80.11%\n",
      "KNN, 5 neighbors\n",
      "  accuracy:75.27%, precision : 81.06%, recall : 85.92%\n",
      "MLP: 2 layers (40,20)\n",
      "  accuracy:72.30%, precision : 81.84%, recall : 79.36%\n"
     ]
    },
    {
     "data": {
      "text/plain": [
       "'ended function'"
      ]
     },
     "execution_count": 49,
     "metadata": {},
     "output_type": "execute_result"
    }
   ],
   "source": [
    "CART_KNN_MLP(Xnorm_train, Xnorm_test, Ycr_train, Ycr_test)"
   ]
  },
  {
   "cell_type": "code",
   "execution_count": 29,
   "metadata": {
    "scrolled": true
   },
   "outputs": [
    {
     "name": "stdout",
     "output_type": "stream",
     "text": [
      "CART (decision tree)\n",
      "  accuracy:71.66%, precision : 82.01%, recall : 77.97%\n",
      "KNN, 5 neighbors\n",
      "  accuracy:75.64%, precision : 81.04%, recall : 86.62%\n",
      "MLP: 2 layers (40,20)\n",
      "  accuracy:73.03%, precision : 82.23%, recall : 80.05%\n"
     ]
    },
    {
     "data": {
      "text/plain": [
       "'ended function'"
      ]
     },
     "execution_count": 29,
     "metadata": {},
     "output_type": "execute_result"
    }
   ],
   "source": [
    "CART_KNN_MLP(Xpca_train, Xpca_test, Ycr_train, Ycr_test)"
   ]
  },
  {
   "cell_type": "markdown",
   "metadata": {},
   "source": [
    "The worst accuracy comes from CART prediction, indeed worsen when scaling the data. Tree-based classifiers often encounter this problems, as correlation between variables is not taken in account by the algorithm:\n",
    "<div class=\"alert alert-block alert-warning\">\n",
    "<b>NOTE:</b>  TREES DO NOT CONSIDER CORRELATION BETWEEN VARIABLES, IT TREATS EACH VARIABLE DIFFERENTLY FROM THE OTHERS IN ORDER TO CLASSIFY PERTINENT ONES\n",
    "</div>\n",
    "\n",
    "Best accuracy is achieved by KNN both with scaling and scaling + 'PCA derived variables'. Very similar precision was obtained for KNN and MLP:  accuracy was ~2% higher for KNN, but precision 1% higher for MLP."
   ]
  },
  {
   "cell_type": "markdown",
   "metadata": {},
   "source": [
    "## I.5 Pick out variables : first approach with Random Forest (not optimized)"
   ]
  },
  {
   "cell_type": "code",
   "execution_count": 18,
   "metadata": {},
   "outputs": [],
   "source": [
    "from sklearn.ensemble import RandomForestClassifier"
   ]
  },
  {
   "cell_type": "code",
   "execution_count": 31,
   "metadata": {},
   "outputs": [],
   "source": [
    "def important_vars(Xtrain_scale, Y1,  nom_cols):\n",
    "    clf = RandomForestClassifier(n_estimators=100)\n",
    "    clf.fit(Xtrain_scale, Y1)\n",
    "    importances=clf.feature_importances_\n",
    "    std = np.std([tree.feature_importances_ for tree in clf.estimators_],axis=0)\n",
    "    sorted_idx = np.argsort(importances)[::-1]\n",
    "    features = nom_cols\n",
    "    print(features[sorted_idx])\n",
    "    padding = np.arange(Xtrain_scale.size/len(Xtrain_scale)) + 0.5\n",
    "    plt.barh(padding, importances[sorted_idx],xerr=std[sorted_idx], align='center')\n",
    "    plt.yticks(padding, features[sorted_idx])\n",
    "    plt.xlabel(\"Relative Importance\")\n",
    "    plt.title(\"Variable Importance\")\n",
    "    plt.show()\n",
    "    return [(i,j) for i,j in zip(features[sorted_idx], sorted_idx)]"
   ]
  },
  {
   "cell_type": "code",
   "execution_count": 32,
   "metadata": {
    "scrolled": true
   },
   "outputs": [
    {
     "name": "stdout",
     "output_type": "stream",
     "text": [
      "['Income' 'Seniority' 'Price' 'Amount' 'Age' 'Assets' 'Expenses' 'Records'\n",
      " 'Time' 'Job' 'Debt' 'Home' 'Marital']\n"
     ]
    },
    {
     "data": {
      "image/png": "[encoded data removed]",
      "text/plain": [
       "<Figure size 432x288 with 1 Axes>"
      ]
     },
     "metadata": {
      "needs_background": "light"
     },
     "output_type": "display_data"
    }
   ],
   "source": [
    "varsimpor_l = important_vars(Xnorm_train, Ycr_train, labels )"
   ]
  },
  {
   "cell_type": "code",
   "execution_count": 121,
   "metadata": {
    "scrolled": true
   },
   "outputs": [
    {
     "name": "stdout",
     "output_type": "stream",
     "text": [
      "List ordered with 'Income' being the most important (located at column 8 in matrix):\n",
      "\n",
      "[('Income', 8), ('Seniority', 0), ('Price', 12), ('Amount', 11), ('Age', 3), ('Assets', 9), ('Expenses', 7), ('Records', 5), ('Time', 2), ('Job', 6), ('Debt', 10), ('Home', 1), ('Marital', 4)]\n"
     ]
    }
   ],
   "source": [
    "print(\"List ordered with 'Income' being the most important (located at column 8 in matrix):\")\n",
    "print()\n",
    "print([t for t in varsimpor_l])"
   ]
  },
  {
   "cell_type": "code",
   "execution_count": 34,
   "metadata": {},
   "outputs": [
    {
     "data": {
      "image/png": "[encoded data removed]",
      "text/plain": [
       "<Figure size 432x288 with 1 Axes>"
      ]
     },
     "metadata": {
      "needs_background": "light"
     },
     "output_type": "display_data"
    }
   ],
   "source": [
    "def plot_accurVsVars(Xtrain_scale, Xtest_scale, Ytrain, Ytest, sorted_idx ):\n",
    "    KNN=KNeighborsClassifier(n_neighbors=5)\n",
    "    scores=np.zeros(Xtrain_scale.shape[1]+1)\n",
    "    # iteratively add variables in importance order!: 8, 0 ... 4 \n",
    "    for f in np.arange(0, Xtrain_scale.shape[1]+1):\n",
    "        X1_f = Xtrain_scale[:,sorted_idx[:f+1]]\n",
    "        X2_f = Xtest_scale[:,sorted_idx[:f+1]]\n",
    "        KNN.fit(X1_f,Ytrain)\n",
    "        YKNN=KNN.predict(X2_f)\n",
    "        scores[f]=np.round(accuracy_score(Ytest,YKNN),3)\n",
    "    plt.plot(scores)\n",
    "    plt.xlabel(\"Nombre de Variables\")\n",
    "    plt.ylabel(\"Accuracy\")\n",
    "    plt.title(\"Evolution de l'accuracy en fonction des variables\")\n",
    "    return plt.show()\n",
    "\n",
    "plot_accurVsVars(Xnorm_train, Xnorm_test, Ycr_train, Ycr_test, [i[1] for i in varsimpor_l])    "
   ]
  },
  {
   "cell_type": "markdown",
   "metadata": {},
   "source": [
    "This plot shows that accuracy achieves its max (0.76) when including first 11 variables \n",
    "\n",
    "<div class=\"alert alert-block alert-warning\">\n",
    "<b>BE CAREFUL:</b>these variables have been \"scored\" only by means of KNN \n",
    " arbitrarily set with 5 neighbors, no tuning yet performed.\n",
    "</div>\n",
    " \n",
    "So lets  choose best parameters first\n"
   ]
  },
  {
   "cell_type": "markdown",
   "metadata": {},
   "source": [
    "## I.6 EFFICIENT PARAMETER TUNING : GridSearchCV"
   ]
  },
  {
   "cell_type": "code",
   "execution_count": 47,
   "metadata": {},
   "outputs": [
    {
     "name": "stdout",
     "output_type": "stream",
     "text": [
      "{'n_neighbors': 13, 'weights': 'distance'}\n",
      "0.7695453643041492\n",
      "  predicted accuracy  : 0.7723948811700183\n",
      "  predicted precision : 0.8120689655172414\n"
     ]
    }
   ],
   "source": [
    "# KNN (only accuracy to optimize)\n",
    "parknn = {  \n",
    "   'n_neighbors': [5,7,11,13,15],\n",
    "    'weights' : ['uniform', 'distance']\n",
    "} \n",
    "grid_knnAcc = model_selection.GridSearchCV(KNeighborsClassifier(), parknn, cv=5,\n",
    "                                         scoring='accuracy')\n",
    "grid_knnAcc.fit(Xnorm_train, Ycr_train)\n",
    "print(grid_knnAcc.best_params_)\n",
    "print(grid_knnAcc.best_score_) \n",
    "knn_predAccu = grid_knnAcc.predict(Xnorm_test)\n",
    "print(f'  KNN grid accuracy  : {accuracy_score(Ycr_test, knn_predAccu)}')\n",
    "print(f'  KNN grid precision : {precision_score(Ycr_test, knn_predAccu)}')"
   ]
  },
  {
   "cell_type": "code",
   "execution_count": 46,
   "metadata": {},
   "outputs": [
    {
     "name": "stdout",
     "output_type": "stream",
     "text": [
      "{'n_neighbors': 13, 'weights': 'distance'}\n",
      "0.8068875952791092\n",
      "  predicted accuracy 0.7723948811700183\n",
      "  predicted precision 0.8120689655172414\n"
     ]
    }
   ],
   "source": [
    "## KNN (accuracy and precision to optim): \n",
    "grid_knn = model_selection.GridSearchCV(KNeighborsClassifier(), parknn, cv=5,\n",
    "                                        refit='precision', scoring=['accuracy', 'precision'])\n",
    "grid_knn.fit(Xnorm_train, Ycr_train)\n",
    "print(grid_knn.best_params_)\n",
    "print(grid_knn.best_score_) \n",
    "knn_pred_g = grid_knn.predict(Xnorm_test)\n",
    "print(f'  KNN refit accuracy  : {accuracy_score(Ycr_test, knn_pred_g)}')\n",
    "print(f'  KNN refit precision : {precision_score(Ycr_test, knn_pred_g)}')"
   ]
  },
  {
   "cell_type": "markdown",
   "metadata": {},
   "source": [
    " KNN: no substantial difference between accuracy vs. accuracy+precision+refit when tuning\n",
    " lets see if same happens for MLP"
   ]
  },
  {
   "cell_type": "code",
   "execution_count": 43,
   "metadata": {},
   "outputs": [
    {
     "name": "stdout",
     "output_type": "stream",
     "text": [
      "{'activation': 'tanh', 'alpha': 0.001, 'hidden_layer_sizes': (50, 30), 'max_iter': 100, 'solver': 'adam'}\n",
      "0.7923931329216429\n",
      "0.7943327239488117\n",
      "0.842391304347826\n"
     ]
    }
   ],
   "source": [
    "## MLP (only accuracy to optimize):   \n",
    "parmlp = {\n",
    "    'hidden_layer_sizes': [(40,20), (45,23) , (50,30)],\n",
    "    'activation' : ['tanh', 'relu'],\n",
    "    'alpha' : [1e-3, 1e-4, 1e-5],\n",
    "    'solver' : ['lbfgs', 'sgd', 'adam'],\n",
    "    'max_iter' : [100,200]\n",
    "}\n",
    "grid_mlpAccu = model_selection.GridSearchCV(MLPClassifier(), parmlp, cv=5, n_jobs=4,\n",
    "                              scoring='accuracy') \n",
    "grid_mlpAccu.fit(Xnorm_train, Ycr_train)\n",
    "print(grid_mlpAccu.best_params_)\n",
    "print(grid_mlpAccu.best_score_)\n",
    "mlp_predAccu = grid_mlpAccu.predict(Xnorm_test)\n",
    "print(accuracy_score(Ycr_test, mlp_predAccu))\n",
    "print(precision_score(Ycr_test, mlp_predAccu))"
   ]
  },
  {
   "cell_type": "code",
   "execution_count": 39,
   "metadata": {},
   "outputs": [
    {
     "name": "stdout",
     "output_type": "stream",
     "text": [
      "{'activation': 'relu', 'alpha': 1e-05, 'hidden_layer_sizes': (45, 23), 'max_iter': 100, 'solver': 'adam'}\n",
      "0.8389883485567069\n",
      "0.7906764168190128\n",
      "0.8363201911589009\n"
     ]
    }
   ],
   "source": [
    "## MLP (accuracy and precision to optim):   \n",
    "parmlp = {\n",
    "    'hidden_layer_sizes': [(40,20), (45,23) , (50,30)],\n",
    "    'activation' : ['tanh', 'relu'],\n",
    "    'alpha' : [1e-3, 1e-4, 1e-5],\n",
    "    'solver' : ['lbfgs', 'sgd', 'adam'],\n",
    "    'max_iter' : [100,200]\n",
    "}\n",
    "grid_mlp = model_selection.GridSearchCV(MLPClassifier(), parmlp, cv=5, n_jobs=4,\n",
    "                              refit='precision', scoring=['accuracy', 'precision']) \n",
    "grid_mlp.fit(Xnorm_train, Ycr_train)\n",
    "print(grid_mlp.best_params_)\n",
    "print(grid_mlp.best_score_)\n",
    "mlp_pred_g = grid_mlp.predict(Xnorm_test)\n",
    "print(accuracy_score(Ycr_test, mlp_pred_g))\n",
    "print(precision_score(Ycr_test, mlp_pred_g))"
   ]
  },
  {
   "cell_type": "markdown",
   "metadata": {},
   "source": [
    "MLP: optimising only accuracy yields better prediction in terms of accuracy and precision"
   ]
  },
  {
   "cell_type": "code",
   "execution_count": 120,
   "metadata": {},
   "outputs": [
    {
     "name": "stdout",
     "output_type": "stream",
     "text": [
      "{'criterion': 'gini', 'max_depth': 3, 'min_samples_split': 2, 'random_state': 1}\n",
      "0.7576596344942165\n",
      "  CART grid accuracy  :0.7605118829981719\n",
      "  CART grid accuracy  :0.7740434332988625\n"
     ]
    }
   ],
   "source": [
    "# CART\n",
    "parcart = {\n",
    "    'criterion' : ['gini'],\n",
    "    'max_depth' : [3,5,7],\n",
    "    'min_samples_split' : [2,4],\n",
    "    'random_state' : [1]\n",
    "    \n",
    "}\n",
    "grid_cart = model_selection.GridSearchCV(DecisionTreeClassifier(), parcart, cv=5,\n",
    "                                        scoring='accuracy')\n",
    "grid_cart.fit(Xnorm_train, Ycr_train)\n",
    "print(grid_cart.best_params_)\n",
    "print(grid_cart.best_score_) \n",
    "cart_pred_g = grid_cart.predict(Xnorm_test)\n",
    "print(f'  CART grid accuracy  :{accuracy_score(Ycr_test, cart_pred_g)}')\n",
    "print(f'  CART grid accuracy  :{precision_score(Ycr_test, cart_pred_g)}')"
   ]
  },
  {
   "cell_type": "markdown",
   "metadata": {},
   "source": [
    "*GridSearchCV* made it easier to find best parameters for these three classifiers. We obtained as optimized parameters using the training dataset X and its class vector Y:\n",
    "\n",
    "  - KNN: {'n_neighbors': 13, 'weights': 'distance'}\n",
    "\n",
    "  - MLP:  {'activation': 'tanh', 'alpha': 0.001, 'hidden_layer_sizes': (50, 30), 'max_iter': 100, 'solver': 'adam'}\n",
    "\n",
    "  - CART: {'criterion': 'entropy', 'max_depth': 5, 'min_samples_split': 2, 'random_state': 1}\n",
    "\n",
    "*MLP* reported the best accuracy and precision (79,43% and 84,23%, respectively) on Y prediction for normalized X test dataset using optimized parameters. However random re-sampling will be introduced (cross-validation), to add robustness to 'best clasifier' selection at section **'Comparing learning algorithms'**.\n"
   ]
  },
  {
   "cell_type": "markdown",
   "metadata": {},
   "source": [
    "#### I.7 A ways to 'INDUSTRIALIZE' prediction : Pipeline"
   ]
  },
  {
   "cell_type": "code",
   "execution_count": 6,
   "metadata": {},
   "outputs": [
    {
     "ename": "NameError",
     "evalue": "name 'PCA' is not defined",
     "output_type": "error",
     "traceback": [
      "\u001b[0;31m---------------------------------------------------------------------------\u001b[0m",
      "\u001b[0;31mNameError\u001b[0m                                 Traceback (most recent call last)",
      "\u001b[0;32m<ipython-input-6-01f2f4ab85ac>\u001b[0m in \u001b[0;36m<module>\u001b[0;34m\u001b[0m\n\u001b[1;32m      2\u001b[0m \u001b[0;32mfrom\u001b[0m \u001b[0msklearn\u001b[0m\u001b[0;34m.\u001b[0m\u001b[0mpipeline\u001b[0m \u001b[0;32mimport\u001b[0m \u001b[0mPipeline\u001b[0m\u001b[0;34m,\u001b[0m \u001b[0mFeatureUnion\u001b[0m\u001b[0;34m\u001b[0m\u001b[0;34m\u001b[0m\u001b[0m\n\u001b[1;32m      3\u001b[0m \u001b[0;34m\u001b[0m\u001b[0m\n\u001b[0;32m----> 4\u001b[0;31m \u001b[0mmixfeat\u001b[0m \u001b[0;34m=\u001b[0m \u001b[0mFeatureUnion\u001b[0m\u001b[0;34m(\u001b[0m\u001b[0;34m[\u001b[0m\u001b[0;34m(\u001b[0m\u001b[0;34m'pca'\u001b[0m\u001b[0;34m,\u001b[0m \u001b[0mPCA\u001b[0m\u001b[0;34m(\u001b[0m\u001b[0mn_components\u001b[0m\u001b[0;34m=\u001b[0m\u001b[0;36m3\u001b[0m\u001b[0;34m)\u001b[0m\u001b[0;34m)\u001b[0m\u001b[0;34m]\u001b[0m\u001b[0;34m)\u001b[0m\u001b[0;34m\u001b[0m\u001b[0;34m\u001b[0m\u001b[0m\n\u001b[0m\u001b[1;32m      5\u001b[0m \u001b[0;34m\u001b[0m\u001b[0m\n\u001b[1;32m      6\u001b[0m pipeline = Pipeline( [\n",
      "\u001b[0;31mNameError\u001b[0m: name 'PCA' is not defined"
     ]
    }
   ],
   "source": [
    "import pickle\n",
    "from sklearn.pipeline import Pipeline, FeatureUnion\n",
    "\n",
    "mixfeat = FeatureUnion([('pca', PCA(n_components=3))])\n",
    "             \n",
    "pipeline = Pipeline( [\n",
    "    ('ss', StandardScaler()),\n",
    "    ('combinedf', mixfeat),\n",
    "     ('knn', KNeighborsClassifier(n_neighbors=13, weights='distance'))\n",
    "])\n",
    "pipeline.fit(Xcr_train, Ycr_train)\n",
    "pr = pipeline.predict(Xcr_test)\n",
    "fileo = open(\"pipeBANK.pkl\", 'wb')\n",
    "pickle.dump(pipeline, fileo) # save binary\n",
    "confusion_matrix(Ycr_test, pr)\n",
    "print(accuracy_score(Ycr_test,pr))"
   ]
  },
  {
   "cell_type": "code",
   "execution_count": null,
   "metadata": {},
   "outputs": [],
   "source": [
    "# HOW TO USE IT :  \n",
    "# lets say we have 2 new clients:\n",
    "Xmintest = Xcr_test[8:10,0:]  # \"2 new clients\"\n",
    "ppline=pickle.load(open( \"pipeBANK.pkl\", \"rb\" ) ) \n",
    "ppline.predict_proba(Xmintest)\n",
    "# if I want to predictions for specific variable\n",
    "# ppline.predict_proba(test.values[:,var1])  \n",
    "# \"\"\" END pipeline part \"\"\""
   ]
  },
  {
   "cell_type": "markdown",
   "metadata": {},
   "source": [
    "## I.8 Comparing learning algorithms (Comparaison de plusieurs algorithmes d’apprentissage)"
   ]
  },
  {
   "cell_type": "code",
   "execution_count": 5,
   "metadata": {},
   "outputs": [
    {
     "ename": "NameError",
     "evalue": "name 'RandomForestClassifier' is not defined",
     "output_type": "error",
     "traceback": [
      "\u001b[0;31m---------------------------------------------------------------------------\u001b[0m",
      "\u001b[0;31mNameError\u001b[0m                                 Traceback (most recent call last)",
      "\u001b[0;32m<ipython-input-5-a826c60dedc0>\u001b[0m in \u001b[0;36m<module>\u001b[0;34m\u001b[0m\n\u001b[1;32m      4\u001b[0m \u001b[0;32mimport\u001b[0m \u001b[0mtime\u001b[0m\u001b[0;34m\u001b[0m\u001b[0;34m\u001b[0m\u001b[0m\n\u001b[1;32m      5\u001b[0m clfs = {\n\u001b[0;32m----> 6\u001b[0;31m     \u001b[0;34m'RF'\u001b[0m\u001b[0;34m:\u001b[0m \u001b[0mRandomForestClassifier\u001b[0m\u001b[0;34m(\u001b[0m\u001b[0mn_estimators\u001b[0m\u001b[0;34m=\u001b[0m\u001b[0;36m50\u001b[0m\u001b[0;34m,\u001b[0m \u001b[0mrandom_state\u001b[0m\u001b[0;34m=\u001b[0m\u001b[0;36m1\u001b[0m\u001b[0;34m)\u001b[0m\u001b[0;34m,\u001b[0m\u001b[0;34m\u001b[0m\u001b[0;34m\u001b[0m\u001b[0m\n\u001b[0m\u001b[1;32m      7\u001b[0m     \u001b[0;34m'KNN'\u001b[0m\u001b[0;34m:\u001b[0m \u001b[0mKNeighborsClassifier\u001b[0m\u001b[0;34m(\u001b[0m\u001b[0mn_neighbors\u001b[0m\u001b[0;34m=\u001b[0m\u001b[0;36m13\u001b[0m\u001b[0;34m,\u001b[0m \u001b[0mweights\u001b[0m\u001b[0;34m=\u001b[0m\u001b[0;34m'distance'\u001b[0m\u001b[0;34m)\u001b[0m\u001b[0;34m,\u001b[0m\u001b[0;34m\u001b[0m\u001b[0;34m\u001b[0m\u001b[0m\n\u001b[1;32m      8\u001b[0m     \u001b[0;34m'ADA'\u001b[0m \u001b[0;34m:\u001b[0m \u001b[0mAdaBoostClassifier\u001b[0m\u001b[0;34m(\u001b[0m\u001b[0mn_estimators\u001b[0m\u001b[0;34m=\u001b[0m\u001b[0;36m50\u001b[0m\u001b[0;34m,\u001b[0m \u001b[0mrandom_state\u001b[0m\u001b[0;34m=\u001b[0m\u001b[0;36m1\u001b[0m\u001b[0;34m)\u001b[0m\u001b[0;34m,\u001b[0m\u001b[0;34m\u001b[0m\u001b[0;34m\u001b[0m\u001b[0m\n",
      "\u001b[0;31mNameError\u001b[0m: name 'RandomForestClassifier' is not defined"
     ]
    }
   ],
   "source": [
    "from sklearn.ensemble import AdaBoostClassifier, BaggingClassifier\n",
    "from sklearn.naive_bayes import GaussianNB\n",
    "from sklearn.model_selection import cross_val_score, KFold\n",
    "import time\n",
    "clfs = {\n",
    "    'RF': RandomForestClassifier(n_estimators=50, random_state=1),\n",
    "    'KNN': KNeighborsClassifier(n_neighbors=13, weights='distance'),\n",
    "    'ADA' : AdaBoostClassifier(n_estimators=50, random_state=1),\n",
    "    'BAG' : BaggingClassifier(n_estimators=50), \n",
    "    'MLP' : MLPClassifier(activation='tanh', alpha=0.001, \n",
    "                          hidden_layer_sizes=(50, 30), max_iter=100, solver='adam'),\n",
    "    'NB' : GaussianNB(),\n",
    "    'CART' : DecisionTreeClassifier(criterion='gini', max_depth=3, random_state=1),\n",
    "    'ID3' : DecisionTreeClassifier(criterion='entropy', random_state=1),\n",
    "    'ST' : DecisionTreeClassifier(max_depth=1, random_state=1) #decisionStump\n",
    "}"
   ]
  },
  {
   "cell_type": "markdown",
   "metadata": {},
   "source": [
    "The function 'run_classifiers' performs cross-validation, the results are stocked in a dictionnary for comparisons that helps to retain the best classifier. It uses 'KFold' which performs re-sampling (no preliminary splitting 'test' and 'train' needed). "
   ]
  },
  {
   "cell_type": "code",
   "execution_count": 80,
   "metadata": {},
   "outputs": [],
   "source": [
    "def run_classifiers(clfs, X, Y):\n",
    "    dico = {'classifier':[],'accuracy_mean':[],'accuracy_sd':[], \n",
    "             'precision_mean':[], 'precision_sd':[],\n",
    "            'AUC':[], 'time_s':[]} #output into dictionnary\n",
    "    kf = KFold(n_splits=5, shuffle=True, random_state=0)\n",
    "    for clf_id in clfs:\n",
    "        initime = time.time()\n",
    "        clf = clfs[clf_id]\n",
    "        cvAccur = cross_val_score(clf, X, Y, cv=kf, n_jobs=4)\n",
    "        end = time.time()\n",
    "        cvPrecision = cross_val_score(clf, X, Y, cv=kf, scoring='precision', n_jobs=4)\n",
    "        cvAUC = cross_val_score(clf, X, Y, cv=kf, scoring='roc_auc', n_jobs=4)\n",
    "        dico['classifier'].append(clf_id)\n",
    "        dico['accuracy_mean'].append(round(np.mean(cvAccur),3)),\n",
    "        dico['accuracy_sd'].append(round(np.std(cvAccur),3)),\n",
    "        dico['precision_mean'].append(round(np.mean(cvPrecision),3)),\n",
    "        dico['precision_sd'].append(round(np.std(cvPrecision),3))\n",
    "        dico['AUC'].append(round(np.mean(cvAUC),3))\n",
    "        dico['time_s'].append(round((end-initime),3))\n",
    "    return dico\n",
    "            "
   ]
  },
  {
   "cell_type": "code",
   "execution_count": 88,
   "metadata": {},
   "outputs": [],
   "source": [
    "scaler = StandardScaler()\n",
    "XnormALL  = scaler.fit_transform(Xcred)\n",
    "# As function uses 'KFold' splitting data as in previous steps is no longer necessary:\n",
    "dicores = run_classifiers(clfs, XnormALL, Ystatus)"
   ]
  },
  {
   "cell_type": "code",
   "execution_count": 89,
   "metadata": {
    "scrolled": false
   },
   "outputs": [
    {
     "data": {
      "text/html": [
       "<div>\n",
       "<style scoped>\n",
       "    .dataframe tbody tr th:only-of-type {\n",
       "        vertical-align: middle;\n",
       "    }\n",
       "\n",
       "    .dataframe tbody tr th {\n",
       "        vertical-align: top;\n",
       "    }\n",
       "\n",
       "    .dataframe thead th {\n",
       "        text-align: right;\n",
       "    }\n",
       "</style>\n",
       "<table border=\"1\" class=\"dataframe\">\n",
       "  <thead>\n",
       "    <tr style=\"text-align: right;\">\n",
       "      <th></th>\n",
       "      <th>classifier</th>\n",
       "      <th>accuracy_mean</th>\n",
       "      <th>accuracy_sd</th>\n",
       "      <th>precision_mean</th>\n",
       "      <th>precision_sd</th>\n",
       "      <th>AUC</th>\n",
       "      <th>time_s</th>\n",
       "    </tr>\n",
       "  </thead>\n",
       "  <tbody>\n",
       "    <tr>\n",
       "      <th>4</th>\n",
       "      <td>MLP</td>\n",
       "      <td>0.794</td>\n",
       "      <td>0.007</td>\n",
       "      <td>0.833</td>\n",
       "      <td>0.006</td>\n",
       "      <td>0.836</td>\n",
       "      <td>10.003</td>\n",
       "    </tr>\n",
       "    <tr>\n",
       "      <th>2</th>\n",
       "      <td>ADA</td>\n",
       "      <td>0.791</td>\n",
       "      <td>0.009</td>\n",
       "      <td>0.823</td>\n",
       "      <td>0.012</td>\n",
       "      <td>0.829</td>\n",
       "      <td>0.713</td>\n",
       "    </tr>\n",
       "    <tr>\n",
       "      <th>0</th>\n",
       "      <td>RF</td>\n",
       "      <td>0.783</td>\n",
       "      <td>0.005</td>\n",
       "      <td>0.821</td>\n",
       "      <td>0.009</td>\n",
       "      <td>0.818</td>\n",
       "      <td>1.124</td>\n",
       "    </tr>\n",
       "    <tr>\n",
       "      <th>3</th>\n",
       "      <td>BAG</td>\n",
       "      <td>0.776</td>\n",
       "      <td>0.008</td>\n",
       "      <td>0.826</td>\n",
       "      <td>0.004</td>\n",
       "      <td>0.815</td>\n",
       "      <td>2.595</td>\n",
       "    </tr>\n",
       "    <tr>\n",
       "      <th>1</th>\n",
       "      <td>KNN</td>\n",
       "      <td>0.776</td>\n",
       "      <td>0.009</td>\n",
       "      <td>0.812</td>\n",
       "      <td>0.012</td>\n",
       "      <td>0.798</td>\n",
       "      <td>0.308</td>\n",
       "    </tr>\n",
       "    <tr>\n",
       "      <th>5</th>\n",
       "      <td>NB</td>\n",
       "      <td>0.769</td>\n",
       "      <td>0.010</td>\n",
       "      <td>0.847</td>\n",
       "      <td>0.017</td>\n",
       "      <td>0.796</td>\n",
       "      <td>0.011</td>\n",
       "    </tr>\n",
       "    <tr>\n",
       "      <th>6</th>\n",
       "      <td>CART</td>\n",
       "      <td>0.753</td>\n",
       "      <td>0.011</td>\n",
       "      <td>0.812</td>\n",
       "      <td>0.009</td>\n",
       "      <td>0.748</td>\n",
       "      <td>0.030</td>\n",
       "    </tr>\n",
       "    <tr>\n",
       "      <th>8</th>\n",
       "      <td>ST</td>\n",
       "      <td>0.727</td>\n",
       "      <td>0.009</td>\n",
       "      <td>0.753</td>\n",
       "      <td>0.017</td>\n",
       "      <td>0.616</td>\n",
       "      <td>0.014</td>\n",
       "    </tr>\n",
       "    <tr>\n",
       "      <th>7</th>\n",
       "      <td>ID3</td>\n",
       "      <td>0.715</td>\n",
       "      <td>0.006</td>\n",
       "      <td>0.803</td>\n",
       "      <td>0.007</td>\n",
       "      <td>0.645</td>\n",
       "      <td>0.085</td>\n",
       "    </tr>\n",
       "  </tbody>\n",
       "</table>\n",
       "</div>"
      ],
      "text/plain": [
       "  classifier  accuracy_mean  accuracy_sd  precision_mean  precision_sd    AUC  \\\n",
       "4        MLP          0.794        0.007           0.833         0.006  0.836   \n",
       "2        ADA          0.791        0.009           0.823         0.012  0.829   \n",
       "0         RF          0.783        0.005           0.821         0.009  0.818   \n",
       "3        BAG          0.776        0.008           0.826         0.004  0.815   \n",
       "1        KNN          0.776        0.009           0.812         0.012  0.798   \n",
       "5         NB          0.769        0.010           0.847         0.017  0.796   \n",
       "6       CART          0.753        0.011           0.812         0.009  0.748   \n",
       "8         ST          0.727        0.009           0.753         0.017  0.616   \n",
       "7        ID3          0.715        0.006           0.803         0.007  0.645   \n",
       "\n",
       "   time_s  \n",
       "4  10.003  \n",
       "2   0.713  \n",
       "0   1.124  \n",
       "3   2.595  \n",
       "1   0.308  \n",
       "5   0.011  \n",
       "6   0.030  \n",
       "8   0.014  \n",
       "7   0.085  "
      ]
     },
     "execution_count": 89,
     "metadata": {},
     "output_type": "execute_result"
    }
   ],
   "source": [
    "tabres = pd.DataFrame.from_dict(dicores)\n",
    "tabres.sort_values(by=['accuracy_mean', 'precision_mean', 'AUC'], ascending=False)"
   ]
  },
  {
   "cell_type": "markdown",
   "metadata": {},
   "source": [
    "<div class=\"alert alert-block alert-success\">\n",
    "<b>Best classifiers for predicting good payers:</b> MLP exhibits best accuracy, precision \n",
    "    and Area Under the Curve (AUC). \n",
    "</div>\n",
    "ADA, RF and BAG perform very similar, whereas KNN and NB see their AUC diminish (false positive rate increments at the cost of true positive rate reduction). "
   ]
  },
  {
   "cell_type": "markdown",
   "metadata": {},
   "source": [
    "## I.9 Use optimal classifier to check variables vs accuracy\n",
    "\n"
   ]
  },
  {
   "cell_type": "code",
   "execution_count": 96,
   "metadata": {},
   "outputs": [],
   "source": [
    "def plot_accurVsVars(Xtrain_scale, Xtest_scale, Ytrain, Ytest, sorted_idx ):\n",
    "    meth=MLPClassifier(activation='tanh', alpha=0.001, \n",
    "                          hidden_layer_sizes=(50, 30), max_iter=100, \n",
    "                       solver='adam', random_state=1)\n",
    "    scores=np.zeros(Xtrain_scale.shape[1]+1)\n",
    "    for f in np.arange(0, Xtrain_scale.shape[1]+1):\n",
    "        X1_f = Xtrain_scale[:,sorted_idx[:f+1]]\n",
    "        X2_f = Xtest_scale[:,sorted_idx[:f+1]]\n",
    "        meth.fit(X1_f,Ytrain)\n",
    "        Ypred=meth.predict(X2_f)\n",
    "        scores[f]=np.round(accuracy_score(Ytest,Ypred),3)\n",
    "    plt.plot(scores, color=\"orangered\")\n",
    "    plt.xlabel(\"Nombre de Variables\")\n",
    "    plt.ylabel(\"Accuracy\")\n",
    "    plt.title(\"Accuracy vs variables: MLP with optimised params\")\n",
    "    return plt.show()"
   ]
  },
  {
   "cell_type": "code",
   "execution_count": 97,
   "metadata": {},
   "outputs": [
    {
     "data": {
      "image/png": "[encoded data removed]",
      "text/plain": [
       "<Figure size 432x288 with 1 Axes>"
      ]
     },
     "metadata": {
      "needs_background": "light"
     },
     "output_type": "display_data"
    }
   ],
   "source": [
    "plot_accurVsVars(Xnorm_train, Xnorm_test, Ycr_train, Ycr_test, [i[1] for i in varsimpor_l])  "
   ]
  },
  {
   "cell_type": "markdown",
   "metadata": {},
   "source": [
    "\n",
    "<div class=\"alert alert-block alert-success\">\n",
    "<b>Accuracy vs variables (OPTIMIZED):</b> accuracy achieves its maximum with 12 first variables (columns = [8, 0, 12, 11, 3, 9, 7, 5, 2, 6, 10, 1]), so 13th variable is redundant (column 4, 'Marital'). We can conclude that MOST of these variables contribute to final accuracy.\n",
    "</div>"
   ]
  },
  {
   "cell_type": "code",
   "execution_count": null,
   "metadata": {},
   "outputs": [],
   "source": []
  },
  {
   "cell_type": "markdown",
   "metadata": {},
   "source": [
    "# II. Heterogeneous Data\n",
    "## II.1 Data preparation and Normalization"
   ]
  },
  {
   "cell_type": "code",
   "execution_count": 108,
   "metadata": {},
   "outputs": [],
   "source": [
    "hetcr = pd.read_csv(\"credit.data\", sep='\\t', header=None)"
   ]
  },
  {
   "cell_type": "code",
   "execution_count": 109,
   "metadata": {},
   "outputs": [
    {
     "data": {
      "text/html": [
       "<div>\n",
       "<style scoped>\n",
       "    .dataframe tbody tr th:only-of-type {\n",
       "        vertical-align: middle;\n",
       "    }\n",
       "\n",
       "    .dataframe tbody tr th {\n",
       "        vertical-align: top;\n",
       "    }\n",
       "\n",
       "    .dataframe thead th {\n",
       "        text-align: right;\n",
       "    }\n",
       "</style>\n",
       "<table border=\"1\" class=\"dataframe\">\n",
       "  <thead>\n",
       "    <tr style=\"text-align: right;\">\n",
       "      <th></th>\n",
       "      <th>0</th>\n",
       "      <th>1</th>\n",
       "      <th>2</th>\n",
       "      <th>3</th>\n",
       "      <th>4</th>\n",
       "      <th>5</th>\n",
       "      <th>6</th>\n",
       "      <th>7</th>\n",
       "      <th>8</th>\n",
       "      <th>9</th>\n",
       "      <th>10</th>\n",
       "      <th>11</th>\n",
       "      <th>12</th>\n",
       "      <th>13</th>\n",
       "      <th>14</th>\n",
       "      <th>15</th>\n",
       "    </tr>\n",
       "  </thead>\n",
       "  <tbody>\n",
       "    <tr>\n",
       "      <th>0</th>\n",
       "      <td>b</td>\n",
       "      <td>30.83</td>\n",
       "      <td>0.00</td>\n",
       "      <td>u</td>\n",
       "      <td>g</td>\n",
       "      <td>w</td>\n",
       "      <td>v</td>\n",
       "      <td>1.25</td>\n",
       "      <td>t</td>\n",
       "      <td>t</td>\n",
       "      <td>1</td>\n",
       "      <td>f</td>\n",
       "      <td>g</td>\n",
       "      <td>202</td>\n",
       "      <td>0</td>\n",
       "      <td>+</td>\n",
       "    </tr>\n",
       "    <tr>\n",
       "      <th>1</th>\n",
       "      <td>a</td>\n",
       "      <td>58.67</td>\n",
       "      <td>4.46</td>\n",
       "      <td>u</td>\n",
       "      <td>g</td>\n",
       "      <td>q</td>\n",
       "      <td>h</td>\n",
       "      <td>3.04</td>\n",
       "      <td>t</td>\n",
       "      <td>t</td>\n",
       "      <td>6</td>\n",
       "      <td>f</td>\n",
       "      <td>g</td>\n",
       "      <td>43</td>\n",
       "      <td>560</td>\n",
       "      <td>+</td>\n",
       "    </tr>\n",
       "  </tbody>\n",
       "</table>\n",
       "</div>"
      ],
      "text/plain": [
       "  0      1     2  3  4  5  6     7  8  9   10 11 12   13   14 15\n",
       "0  b  30.83  0.00  u  g  w  v  1.25  t  t   1  f  g  202    0  +\n",
       "1  a  58.67  4.46  u  g  q  h  3.04  t  t   6  f  g   43  560  +"
      ]
     },
     "execution_count": 109,
     "metadata": {},
     "output_type": "execute_result"
    }
   ],
   "source": [
    "hetcr.head(2)  # as we see, column names are just numbers from 0 to 15"
   ]
  },
  {
   "cell_type": "code",
   "execution_count": 110,
   "metadata": {
    "scrolled": true
   },
   "outputs": [
    {
     "name": "stdout",
     "output_type": "stream",
     "text": [
      "False\n"
     ]
    }
   ],
   "source": [
    "rawM = hetcr.values\n",
    "X = np.copy(rawM[:,0:15]) # variables caractéristiques\n",
    "Y = np.copy(rawM[:,15]) # var à prédire (target)\n",
    "Y[Y == '+'] = 1\n",
    "Y[Y == '-'] = 0\n",
    "Y = Y.astype(int)\n",
    "col_num = [1, 2, 7, 10, 13, 14 ]  # numerical vars\n",
    "col_cat = [i for i in range(15) if i not in col_num] # categorical\n",
    "print(np.isnan(Y[0]))  # check Y does not contain missing values "
   ]
  },
  {
   "cell_type": "markdown",
   "metadata": {},
   "source": [
    "**Missing values**:\n",
    "- first approach using only numerical variables and droping out individuals having missing values\n",
    "- secondly, imputation method to both numerical and categorical missing values,  and concatenate both to run classifiers."
   ]
  },
  {
   "cell_type": "code",
   "execution_count": 111,
   "metadata": {},
   "outputs": [],
   "source": [
    "X_num = np.copy(X[:, col_num])  # get only numerical\n",
    "X_num[X_num == '?'] = np.nan  # missing values in X set to nan\n",
    "X_num = X_num.astype(float)"
   ]
  },
  {
   "cell_type": "code",
   "execution_count": 112,
   "metadata": {},
   "outputs": [],
   "source": [
    "# delete subjects, from X and Y,  having nan in at least one column in X\n",
    "Ycut = Y[~np.isnan(X_num).any(axis=1)]\n",
    "Xnumcut = X_num[~np.isnan(X_num).any(axis=1)]"
   ]
  },
  {
   "cell_type": "code",
   "execution_count": 113,
   "metadata": {},
   "outputs": [
    {
     "data": {
      "text/plain": [
       "((666, 6), (666,))"
      ]
     },
     "execution_count": 113,
     "metadata": {},
     "output_type": "execute_result"
    }
   ],
   "source": [
    "Xnumcut.shape, Ycut.shape"
   ]
  },
  {
   "cell_type": "code",
   "execution_count": 114,
   "metadata": {},
   "outputs": [
    {
     "data": {
      "text/plain": [
       "(array([367.,   0.,   0.,   0.,   0.,   0.,   0.,   0.,   0., 299.]),\n",
       " array([0. , 0.1, 0.2, 0.3, 0.4, 0.5, 0.6, 0.7, 0.8, 0.9, 1. ]),\n",
       " <BarContainer object of 10 artists>)"
      ]
     },
     "execution_count": 114,
     "metadata": {},
     "output_type": "execute_result"
    },
    {
     "data": {
      "image/png": "[encoded data removed]",
      "text/plain": [
       "<Figure size 432x288 with 1 Axes>"
      ]
     },
     "metadata": {
      "needs_background": "light"
     },
     "output_type": "display_data"
    }
   ],
   "source": [
    "plt.hist(Ycut)"
   ]
  },
  {
   "cell_type": "code",
   "execution_count": 115,
   "metadata": {},
   "outputs": [
    {
     "data": {
      "text/plain": [
       "(array([383.,   0.,   0.,   0.,   0.,   0.,   0.,   0.,   0., 305.]),\n",
       " array([0. , 0.1, 0.2, 0.3, 0.4, 0.5, 0.6, 0.7, 0.8, 0.9, 1. ]),\n",
       " <BarContainer object of 10 artists>)"
      ]
     },
     "execution_count": 115,
     "metadata": {},
     "output_type": "execute_result"
    },
    {
     "data": {
      "image/png": "[encoded data removed]",
      "text/plain": [
       "<Figure size 432x288 with 1 Axes>"
      ]
     },
     "metadata": {
      "needs_background": "light"
     },
     "output_type": "display_data"
    }
   ],
   "source": [
    "plt.hist(Y)"
   ]
  },
  {
   "cell_type": "code",
   "execution_count": 116,
   "metadata": {},
   "outputs": [
    {
     "data": {
      "text/html": [
       "<div>\n",
       "<style scoped>\n",
       "    .dataframe tbody tr th:only-of-type {\n",
       "        vertical-align: middle;\n",
       "    }\n",
       "\n",
       "    .dataframe tbody tr th {\n",
       "        vertical-align: top;\n",
       "    }\n",
       "\n",
       "    .dataframe thead th {\n",
       "        text-align: right;\n",
       "    }\n",
       "</style>\n",
       "<table border=\"1\" class=\"dataframe\">\n",
       "  <thead>\n",
       "    <tr style=\"text-align: right;\">\n",
       "      <th></th>\n",
       "      <th>classifier</th>\n",
       "      <th>accuracy_mean</th>\n",
       "      <th>accuracy_sd</th>\n",
       "      <th>precision_mean</th>\n",
       "      <th>precision_sd</th>\n",
       "      <th>AUC</th>\n",
       "      <th>time_s</th>\n",
       "    </tr>\n",
       "  </thead>\n",
       "  <tbody>\n",
       "    <tr>\n",
       "      <th>0</th>\n",
       "      <td>RF</td>\n",
       "      <td>0.790</td>\n",
       "      <td>0.042</td>\n",
       "      <td>0.803</td>\n",
       "      <td>0.034</td>\n",
       "      <td>0.855</td>\n",
       "      <td>0.373</td>\n",
       "    </tr>\n",
       "    <tr>\n",
       "      <th>1</th>\n",
       "      <td>KNN</td>\n",
       "      <td>0.695</td>\n",
       "      <td>0.031</td>\n",
       "      <td>0.707</td>\n",
       "      <td>0.044</td>\n",
       "      <td>0.748</td>\n",
       "      <td>0.011</td>\n",
       "    </tr>\n",
       "    <tr>\n",
       "      <th>2</th>\n",
       "      <td>ADA</td>\n",
       "      <td>0.781</td>\n",
       "      <td>0.023</td>\n",
       "      <td>0.790</td>\n",
       "      <td>0.053</td>\n",
       "      <td>0.830</td>\n",
       "      <td>0.329</td>\n",
       "    </tr>\n",
       "    <tr>\n",
       "      <th>3</th>\n",
       "      <td>BAG</td>\n",
       "      <td>0.784</td>\n",
       "      <td>0.049</td>\n",
       "      <td>0.770</td>\n",
       "      <td>0.018</td>\n",
       "      <td>0.838</td>\n",
       "      <td>0.513</td>\n",
       "    </tr>\n",
       "    <tr>\n",
       "      <th>4</th>\n",
       "      <td>MLP</td>\n",
       "      <td>0.769</td>\n",
       "      <td>0.026</td>\n",
       "      <td>0.742</td>\n",
       "      <td>0.018</td>\n",
       "      <td>0.832</td>\n",
       "      <td>1.361</td>\n",
       "    </tr>\n",
       "    <tr>\n",
       "      <th>5</th>\n",
       "      <td>NB</td>\n",
       "      <td>0.715</td>\n",
       "      <td>0.028</td>\n",
       "      <td>0.819</td>\n",
       "      <td>0.026</td>\n",
       "      <td>0.794</td>\n",
       "      <td>0.006</td>\n",
       "    </tr>\n",
       "    <tr>\n",
       "      <th>6</th>\n",
       "      <td>CART</td>\n",
       "      <td>0.755</td>\n",
       "      <td>0.036</td>\n",
       "      <td>0.836</td>\n",
       "      <td>0.031</td>\n",
       "      <td>0.799</td>\n",
       "      <td>0.009</td>\n",
       "    </tr>\n",
       "    <tr>\n",
       "      <th>7</th>\n",
       "      <td>ID3</td>\n",
       "      <td>0.752</td>\n",
       "      <td>0.021</td>\n",
       "      <td>0.734</td>\n",
       "      <td>0.048</td>\n",
       "      <td>0.750</td>\n",
       "      <td>0.014</td>\n",
       "    </tr>\n",
       "    <tr>\n",
       "      <th>8</th>\n",
       "      <td>ST</td>\n",
       "      <td>0.743</td>\n",
       "      <td>0.042</td>\n",
       "      <td>0.861</td>\n",
       "      <td>0.064</td>\n",
       "      <td>0.722</td>\n",
       "      <td>0.007</td>\n",
       "    </tr>\n",
       "  </tbody>\n",
       "</table>\n",
       "</div>"
      ],
      "text/plain": [
       "  classifier  accuracy_mean  accuracy_sd  precision_mean  precision_sd    AUC  \\\n",
       "0         RF          0.790        0.042           0.803         0.034  0.855   \n",
       "1        KNN          0.695        0.031           0.707         0.044  0.748   \n",
       "2        ADA          0.781        0.023           0.790         0.053  0.830   \n",
       "3        BAG          0.784        0.049           0.770         0.018  0.838   \n",
       "4        MLP          0.769        0.026           0.742         0.018  0.832   \n",
       "5         NB          0.715        0.028           0.819         0.026  0.794   \n",
       "6       CART          0.755        0.036           0.836         0.031  0.799   \n",
       "7        ID3          0.752        0.021           0.734         0.048  0.750   \n",
       "8         ST          0.743        0.042           0.861         0.064  0.722   \n",
       "\n",
       "   time_s  \n",
       "0   0.373  \n",
       "1   0.011  \n",
       "2   0.329  \n",
       "3   0.513  \n",
       "4   1.361  \n",
       "5   0.006  \n",
       "6   0.009  \n",
       "7   0.014  \n",
       "8   0.007  "
      ]
     },
     "execution_count": 116,
     "metadata": {},
     "output_type": "execute_result"
    }
   ],
   "source": [
    "hetercl = run_classifiers(clfs, Xnumcut, Ycut) # a dictionnary"
   ]
  },
  {
   "cell_type": "code",
   "execution_count": 122,
   "metadata": {
    "scrolled": true
   },
   "outputs": [
    {
     "data": {
      "text/html": [
       "<div>\n",
       "<style scoped>\n",
       "    .dataframe tbody tr th:only-of-type {\n",
       "        vertical-align: middle;\n",
       "    }\n",
       "\n",
       "    .dataframe tbody tr th {\n",
       "        vertical-align: top;\n",
       "    }\n",
       "\n",
       "    .dataframe thead th {\n",
       "        text-align: right;\n",
       "    }\n",
       "</style>\n",
       "<table border=\"1\" class=\"dataframe\">\n",
       "  <thead>\n",
       "    <tr style=\"text-align: right;\">\n",
       "      <th></th>\n",
       "      <th>classifier</th>\n",
       "      <th>accuracy_mean</th>\n",
       "      <th>accuracy_sd</th>\n",
       "      <th>precision_mean</th>\n",
       "      <th>precision_sd</th>\n",
       "      <th>AUC</th>\n",
       "      <th>time_s</th>\n",
       "    </tr>\n",
       "  </thead>\n",
       "  <tbody>\n",
       "    <tr>\n",
       "      <th>0</th>\n",
       "      <td>RF</td>\n",
       "      <td>0.790</td>\n",
       "      <td>0.042</td>\n",
       "      <td>0.803</td>\n",
       "      <td>0.034</td>\n",
       "      <td>0.855</td>\n",
       "      <td>0.373</td>\n",
       "    </tr>\n",
       "    <tr>\n",
       "      <th>3</th>\n",
       "      <td>BAG</td>\n",
       "      <td>0.784</td>\n",
       "      <td>0.049</td>\n",
       "      <td>0.770</td>\n",
       "      <td>0.018</td>\n",
       "      <td>0.838</td>\n",
       "      <td>0.513</td>\n",
       "    </tr>\n",
       "    <tr>\n",
       "      <th>2</th>\n",
       "      <td>ADA</td>\n",
       "      <td>0.781</td>\n",
       "      <td>0.023</td>\n",
       "      <td>0.790</td>\n",
       "      <td>0.053</td>\n",
       "      <td>0.830</td>\n",
       "      <td>0.329</td>\n",
       "    </tr>\n",
       "    <tr>\n",
       "      <th>4</th>\n",
       "      <td>MLP</td>\n",
       "      <td>0.769</td>\n",
       "      <td>0.026</td>\n",
       "      <td>0.742</td>\n",
       "      <td>0.018</td>\n",
       "      <td>0.832</td>\n",
       "      <td>1.361</td>\n",
       "    </tr>\n",
       "    <tr>\n",
       "      <th>6</th>\n",
       "      <td>CART</td>\n",
       "      <td>0.755</td>\n",
       "      <td>0.036</td>\n",
       "      <td>0.836</td>\n",
       "      <td>0.031</td>\n",
       "      <td>0.799</td>\n",
       "      <td>0.009</td>\n",
       "    </tr>\n",
       "    <tr>\n",
       "      <th>7</th>\n",
       "      <td>ID3</td>\n",
       "      <td>0.752</td>\n",
       "      <td>0.021</td>\n",
       "      <td>0.734</td>\n",
       "      <td>0.048</td>\n",
       "      <td>0.750</td>\n",
       "      <td>0.014</td>\n",
       "    </tr>\n",
       "    <tr>\n",
       "      <th>8</th>\n",
       "      <td>ST</td>\n",
       "      <td>0.743</td>\n",
       "      <td>0.042</td>\n",
       "      <td>0.861</td>\n",
       "      <td>0.064</td>\n",
       "      <td>0.722</td>\n",
       "      <td>0.007</td>\n",
       "    </tr>\n",
       "    <tr>\n",
       "      <th>5</th>\n",
       "      <td>NB</td>\n",
       "      <td>0.715</td>\n",
       "      <td>0.028</td>\n",
       "      <td>0.819</td>\n",
       "      <td>0.026</td>\n",
       "      <td>0.794</td>\n",
       "      <td>0.006</td>\n",
       "    </tr>\n",
       "    <tr>\n",
       "      <th>1</th>\n",
       "      <td>KNN</td>\n",
       "      <td>0.695</td>\n",
       "      <td>0.031</td>\n",
       "      <td>0.707</td>\n",
       "      <td>0.044</td>\n",
       "      <td>0.748</td>\n",
       "      <td>0.011</td>\n",
       "    </tr>\n",
       "  </tbody>\n",
       "</table>\n",
       "</div>"
      ],
      "text/plain": [
       "  classifier  accuracy_mean  accuracy_sd  precision_mean  precision_sd    AUC  \\\n",
       "0         RF          0.790        0.042           0.803         0.034  0.855   \n",
       "3        BAG          0.784        0.049           0.770         0.018  0.838   \n",
       "2        ADA          0.781        0.023           0.790         0.053  0.830   \n",
       "4        MLP          0.769        0.026           0.742         0.018  0.832   \n",
       "6       CART          0.755        0.036           0.836         0.031  0.799   \n",
       "7        ID3          0.752        0.021           0.734         0.048  0.750   \n",
       "8         ST          0.743        0.042           0.861         0.064  0.722   \n",
       "5         NB          0.715        0.028           0.819         0.026  0.794   \n",
       "1        KNN          0.695        0.031           0.707         0.044  0.748   \n",
       "\n",
       "   time_s  \n",
       "0   0.373  \n",
       "3   0.513  \n",
       "2   0.329  \n",
       "4   1.361  \n",
       "6   0.009  \n",
       "7   0.014  \n",
       "8   0.007  \n",
       "5   0.006  \n",
       "1   0.011  "
      ]
     },
     "execution_count": 122,
     "metadata": {},
     "output_type": "execute_result"
    }
   ],
   "source": [
    "hetetab = pd.DataFrame.from_dict(hetercl)\n",
    "hetetab.sort_values(by=['accuracy_mean', 'precision_mean', 'AUC'], ascending=False)"
   ]
  },
  {
   "cell_type": "markdown",
   "metadata": {},
   "source": [
    "As we can see in the table above, ordered by accuracy, precision and AUC in descending values, **RF is the best classifier** for this dataset. We excluded however all missing values, we'll compare with matrix having imputed values."
   ]
  },
  {
   "cell_type": "code",
   "execution_count": 117,
   "metadata": {},
   "outputs": [],
   "source": [
    "## -- Centered-reduced data:\n",
    "scaler = StandardScaler()\n",
    "Xnormcut = scaler.fit_transform(Xnumcut)\n",
    "# run this !!!!!:\n",
    "# hetercl = run_classifiers(clfs, Xnormcut, Ycut)\n",
    "# pd.DataFrame.from_dict(hetercl)"
   ]
  },
  {
   "cell_type": "markdown",
   "metadata": {
    "scrolled": true
   },
   "source": [
    "## II.2 Treat Missing values : *imputer*\n",
    "Preserve full X matrix,  impute variables including categorical ones"
   ]
  },
  {
   "cell_type": "code",
   "execution_count": 123,
   "metadata": {},
   "outputs": [],
   "source": [
    "from sklearn.impute import SimpleImputer as Imputer\n",
    "from sklearn.preprocessing import OneHotEncoder"
   ]
  },
  {
   "cell_type": "code",
   "execution_count": 124,
   "metadata": {},
   "outputs": [],
   "source": [
    "# treat numerical variables : \n",
    "imp_num = Imputer(missing_values=np.nan, strategy='mean')\n",
    "X_num = imp_num.fit_transform(X_num)"
   ]
  },
  {
   "cell_type": "code",
   "execution_count": 125,
   "metadata": {
    "scrolled": true
   },
   "outputs": [],
   "source": [
    "# treat categorical variables\n",
    "X_cat = np.copy(X[:, col_cat])\n",
    "for col_id in range(len(col_cat)):\n",
    "    unique_val, val_idx = np.unique(X_cat[:, col_id], return_inverse=True)\n",
    "    X_cat[:, col_id] = val_idx\n",
    "imp_cat = Imputer(missing_values=0, strategy='most_frequent')\n",
    "X_cat[:, range(5)] = imp_cat.fit_transform(X_cat[:, range(5)])\n",
    "# to be able to use in run_classifiers, for a given variable\n",
    "# transform m categories into m binary vars, being only one active\n",
    "X_cat_bin = OneHotEncoder().fit_transform(X_cat).toarray()"
   ]
  },
  {
   "cell_type": "code",
   "execution_count": 141,
   "metadata": {},
   "outputs": [
    {
     "data": {
      "text/plain": [
       "(688, 46)"
      ]
     },
     "execution_count": 141,
     "metadata": {},
     "output_type": "execute_result"
    }
   ],
   "source": [
    "Xmerge = np.concatenate((X_num,X_cat_bin),axis=1)\n",
    "Xmerge.shape"
   ]
  },
  {
   "cell_type": "code",
   "execution_count": 142,
   "metadata": {},
   "outputs": [
    {
     "data": {
      "text/html": [
       "<div>\n",
       "<style scoped>\n",
       "    .dataframe tbody tr th:only-of-type {\n",
       "        vertical-align: middle;\n",
       "    }\n",
       "\n",
       "    .dataframe tbody tr th {\n",
       "        vertical-align: top;\n",
       "    }\n",
       "\n",
       "    .dataframe thead th {\n",
       "        text-align: right;\n",
       "    }\n",
       "</style>\n",
       "<table border=\"1\" class=\"dataframe\">\n",
       "  <thead>\n",
       "    <tr style=\"text-align: right;\">\n",
       "      <th></th>\n",
       "      <th>classifier</th>\n",
       "      <th>accuracy_mean</th>\n",
       "      <th>accuracy_sd</th>\n",
       "      <th>precision_mean</th>\n",
       "      <th>precision_sd</th>\n",
       "      <th>AUC</th>\n",
       "      <th>time_s</th>\n",
       "    </tr>\n",
       "  </thead>\n",
       "  <tbody>\n",
       "    <tr>\n",
       "      <th>0</th>\n",
       "      <td>RF</td>\n",
       "      <td>0.866</td>\n",
       "      <td>0.023</td>\n",
       "      <td>0.843</td>\n",
       "      <td>0.043</td>\n",
       "      <td>0.933</td>\n",
       "      <td>0.361</td>\n",
       "    </tr>\n",
       "    <tr>\n",
       "      <th>3</th>\n",
       "      <td>BAG</td>\n",
       "      <td>0.863</td>\n",
       "      <td>0.026</td>\n",
       "      <td>0.848</td>\n",
       "      <td>0.048</td>\n",
       "      <td>0.925</td>\n",
       "      <td>0.625</td>\n",
       "    </tr>\n",
       "    <tr>\n",
       "      <th>8</th>\n",
       "      <td>ST</td>\n",
       "      <td>0.856</td>\n",
       "      <td>0.036</td>\n",
       "      <td>0.789</td>\n",
       "      <td>0.056</td>\n",
       "      <td>0.864</td>\n",
       "      <td>0.007</td>\n",
       "    </tr>\n",
       "    <tr>\n",
       "      <th>2</th>\n",
       "      <td>ADA</td>\n",
       "      <td>0.843</td>\n",
       "      <td>0.029</td>\n",
       "      <td>0.825</td>\n",
       "      <td>0.038</td>\n",
       "      <td>0.917</td>\n",
       "      <td>0.382</td>\n",
       "    </tr>\n",
       "    <tr>\n",
       "      <th>5</th>\n",
       "      <td>NB</td>\n",
       "      <td>0.839</td>\n",
       "      <td>0.020</td>\n",
       "      <td>0.855</td>\n",
       "      <td>0.029</td>\n",
       "      <td>0.918</td>\n",
       "      <td>0.007</td>\n",
       "    </tr>\n",
       "    <tr>\n",
       "      <th>6</th>\n",
       "      <td>CART</td>\n",
       "      <td>0.833</td>\n",
       "      <td>0.013</td>\n",
       "      <td>0.802</td>\n",
       "      <td>0.072</td>\n",
       "      <td>0.907</td>\n",
       "      <td>0.010</td>\n",
       "    </tr>\n",
       "    <tr>\n",
       "      <th>7</th>\n",
       "      <td>ID3</td>\n",
       "      <td>0.817</td>\n",
       "      <td>0.028</td>\n",
       "      <td>0.798</td>\n",
       "      <td>0.035</td>\n",
       "      <td>0.813</td>\n",
       "      <td>0.017</td>\n",
       "    </tr>\n",
       "    <tr>\n",
       "      <th>4</th>\n",
       "      <td>MLP</td>\n",
       "      <td>0.798</td>\n",
       "      <td>0.020</td>\n",
       "      <td>0.779</td>\n",
       "      <td>0.070</td>\n",
       "      <td>0.886</td>\n",
       "      <td>1.318</td>\n",
       "    </tr>\n",
       "    <tr>\n",
       "      <th>1</th>\n",
       "      <td>KNN</td>\n",
       "      <td>0.673</td>\n",
       "      <td>0.040</td>\n",
       "      <td>0.674</td>\n",
       "      <td>0.050</td>\n",
       "      <td>0.731</td>\n",
       "      <td>1.104</td>\n",
       "    </tr>\n",
       "  </tbody>\n",
       "</table>\n",
       "</div>"
      ],
      "text/plain": [
       "  classifier  accuracy_mean  accuracy_sd  precision_mean  precision_sd    AUC  \\\n",
       "0         RF          0.866        0.023           0.843         0.043  0.933   \n",
       "3        BAG          0.863        0.026           0.848         0.048  0.925   \n",
       "8         ST          0.856        0.036           0.789         0.056  0.864   \n",
       "2        ADA          0.843        0.029           0.825         0.038  0.917   \n",
       "5         NB          0.839        0.020           0.855         0.029  0.918   \n",
       "6       CART          0.833        0.013           0.802         0.072  0.907   \n",
       "7        ID3          0.817        0.028           0.798         0.035  0.813   \n",
       "4        MLP          0.798        0.020           0.779         0.070  0.886   \n",
       "1        KNN          0.673        0.040           0.674         0.050  0.731   \n",
       "\n",
       "   time_s  \n",
       "0   0.361  \n",
       "3   0.625  \n",
       "8   0.007  \n",
       "2   0.382  \n",
       "5   0.007  \n",
       "6   0.010  \n",
       "7   0.017  \n",
       "4   1.318  \n",
       "1   1.104  "
      ]
     },
     "execution_count": 142,
     "metadata": {},
     "output_type": "execute_result"
    }
   ],
   "source": [
    "hetefull = run_classifiers(clfs, Xmerge, Y)\n",
    "hetefulltab = pd.DataFrame.from_dict(hetefull)\n",
    "hetefulltab.sort_values(by=['accuracy_mean', 'precision_mean', 'AUC'], ascending=False)"
   ]
  },
  {
   "cell_type": "markdown",
   "metadata": {},
   "source": [
    "The table above for this imputed dataset shows still RF(Random Forest) and BAG as best classifiers, however an important change occured in terms of prediction between \"amputated\" (missing values just suppressed) vs imputed values.\n",
    "\n",
    "The table below table contains **Random Forest** results on both types of data demonstrates that imputation improves the capacity of the model to achieve better parameters, we deduce that performance in prediction has boost, and it is also reflected in computational time which is also improved:\n",
    "\n",
    "\n",
    "| RF on data...           | ACCURACY | PRECISION | AUC   | time  |\n",
    "|-------------------------|----------|-----------|-------|-------|\n",
    "| with 'amputated' values | 0.790    | 0.803     | 0.855 | 0.373 |\n",
    "| with imputed variables  | 0.866    | 0.848     | 0.933 | 0.361 |\n",
    "|                         |          |           |       |       |"
   ]
  },
  {
   "cell_type": "markdown",
   "metadata": {},
   "source": [
    "# III. Textual data : Feature engineering et Classification"
   ]
  },
  {
   "cell_type": "code",
   "execution_count": 19,
   "metadata": {},
   "outputs": [
    {
     "data": {
      "text/html": [
       "<div>\n",
       "<style scoped>\n",
       "    .dataframe tbody tr th:only-of-type {\n",
       "        vertical-align: middle;\n",
       "    }\n",
       "\n",
       "    .dataframe tbody tr th {\n",
       "        vertical-align: top;\n",
       "    }\n",
       "\n",
       "    .dataframe thead th {\n",
       "        text-align: right;\n",
       "    }\n",
       "</style>\n",
       "<table border=\"1\" class=\"dataframe\">\n",
       "  <thead>\n",
       "    <tr style=\"text-align: right;\">\n",
       "      <th></th>\n",
       "      <th>0</th>\n",
       "      <th>1</th>\n",
       "    </tr>\n",
       "  </thead>\n",
       "  <tbody>\n",
       "    <tr>\n",
       "      <th>0</th>\n",
       "      <td>ham</td>\n",
       "      <td>Go until jurong point, crazy.. Available only ...</td>\n",
       "    </tr>\n",
       "    <tr>\n",
       "      <th>1</th>\n",
       "      <td>ham</td>\n",
       "      <td>Ok lar... Joking wif u oni...</td>\n",
       "    </tr>\n",
       "    <tr>\n",
       "      <th>2</th>\n",
       "      <td>spam</td>\n",
       "      <td>Free entry in 2 a wkly comp to win FA Cup fina...</td>\n",
       "    </tr>\n",
       "  </tbody>\n",
       "</table>\n",
       "</div>"
      ],
      "text/plain": [
       "      0                                                  1\n",
       "0   ham  Go until jurong point, crazy.. Available only ...\n",
       "1   ham                      Ok lar... Joking wif u oni...\n",
       "2  spam  Free entry in 2 a wkly comp to win FA Cup fina..."
      ]
     },
     "execution_count": 19,
     "metadata": {},
     "output_type": "execute_result"
    }
   ],
   "source": [
    "smsall = pd.read_csv(\"SMSSpamCollection.data\", sep=\"\\t\", header=None)\n",
    "smsall.head(3)"
   ]
  },
  {
   "cell_type": "code",
   "execution_count": 61,
   "metadata": {},
   "outputs": [],
   "source": [
    "preXsms = smsall.values"
   ]
  },
  {
   "cell_type": "code",
   "execution_count": 66,
   "metadata": {},
   "outputs": [],
   "source": [
    "Xs = np.copy(preXsms[:,1])\n",
    "Ys = np.copy(preXsms[:,0])\n",
    "\n",
    "Ys[Ys == 'ham'] = 1\n",
    "Ys[Ys == 'spam'] = 0\n"
   ]
  },
  {
   "cell_type": "code",
   "execution_count": 67,
   "metadata": {},
   "outputs": [
    {
     "name": "stdout",
     "output_type": "stream",
     "text": [
      "Pishing(hammeçonage) 86.59 %, Spam : 13.41%\n"
     ]
    }
   ],
   "source": [
    "HAM = 100*np.sum(Ys==1)/len(Ys) \n",
    "SPAM = 100*np.sum(Ys==0)/len(Ys) \n",
    "print ('Pishing(hammeçonage) {0:.2f} %, Spam : {1:.2f}%'.format(HAM,SPAM))"
   ]
  },
  {
   "cell_type": "code",
   "execution_count": 75,
   "metadata": {},
   "outputs": [],
   "source": [
    "from sklearn.feature_extraction.text import CountVectorizer"
   ]
  },
  {
   "cell_type": "code",
   "execution_count": 76,
   "metadata": {},
   "outputs": [
    {
     "name": "stdout",
     "output_type": "stream",
     "text": [
      " captured features :8444\n"
     ]
    }
   ],
   "source": [
    "# I set max_features around that value (incremented by safety )\n",
    "vectorizer1 = CountVectorizer(stop_words=\"english\", analyzer='word') \n",
    "# analyzer 'word' is default anyway\n",
    "Xsv1 = vectorizer1.fit_transform(list(Xs))\n",
    "print(f' captured features :{len(vectorizer1.get_feature_names())}')"
   ]
  },
  {
   "cell_type": "markdown",
   "metadata": {},
   "source": [
    "<div class=\"alert alert-block alert-warning\">\n",
    "<b>CountVectorizer:</b> it produces a SPARSE MATRIX (many zero values)\n",
    "</div>"
   ]
  },
  {
   "cell_type": "code",
   "execution_count": 54,
   "metadata": {},
   "outputs": [],
   "source": [
    "X = Xsv1"
   ]
  },
  {
   "cell_type": "code",
   "execution_count": 81,
   "metadata": {},
   "outputs": [],
   "source": [
    "clfsB = {    \n",
    "    'RF': RandomForestClassifier(n_estimators=50, random_state=1),\n",
    "    'MLP' : MLPClassifier(activation='tanh', alpha=0.001, \n",
    "                          hidden_layer_sizes=(50, 30), max_iter=100, solver='adam'),\n",
    "    'ADA' : AdaBoostClassifier(n_estimators=50, random_state=1),\n",
    "    'BAG' : BaggingClassifier(n_estimators=50),\n",
    "    'CART' : DecisionTreeClassifier(random_state=1)\n",
    "}"
   ]
  },
  {
   "cell_type": "code",
   "execution_count": 82,
   "metadata": {},
   "outputs": [],
   "source": [
    "dicoSparse1 = run_classifiers(clfsB, Xsv1np, list(Ys))"
   ]
  },
  {
   "cell_type": "code",
   "execution_count": 83,
   "metadata": {},
   "outputs": [
    {
     "data": {
      "text/html": [
       "<div>\n",
       "<style scoped>\n",
       "    .dataframe tbody tr th:only-of-type {\n",
       "        vertical-align: middle;\n",
       "    }\n",
       "\n",
       "    .dataframe tbody tr th {\n",
       "        vertical-align: top;\n",
       "    }\n",
       "\n",
       "    .dataframe thead th {\n",
       "        text-align: right;\n",
       "    }\n",
       "</style>\n",
       "<table border=\"1\" class=\"dataframe\">\n",
       "  <thead>\n",
       "    <tr style=\"text-align: right;\">\n",
       "      <th></th>\n",
       "      <th>classifier</th>\n",
       "      <th>accuracy_mean</th>\n",
       "      <th>accuracy_sd</th>\n",
       "      <th>precision_mean</th>\n",
       "      <th>precision_sd</th>\n",
       "      <th>AUC</th>\n",
       "      <th>time_s</th>\n",
       "    </tr>\n",
       "  </thead>\n",
       "  <tbody>\n",
       "    <tr>\n",
       "      <th>0</th>\n",
       "      <td>RF</td>\n",
       "      <td>0.972</td>\n",
       "      <td>0.005</td>\n",
       "      <td>0.981</td>\n",
       "      <td>0.003</td>\n",
       "      <td>0.978</td>\n",
       "      <td>4.710</td>\n",
       "    </tr>\n",
       "    <tr>\n",
       "      <th>1</th>\n",
       "      <td>MLP</td>\n",
       "      <td>0.972</td>\n",
       "      <td>0.003</td>\n",
       "      <td>0.980</td>\n",
       "      <td>0.004</td>\n",
       "      <td>0.976</td>\n",
       "      <td>14.200</td>\n",
       "    </tr>\n",
       "    <tr>\n",
       "      <th>2</th>\n",
       "      <td>ADA</td>\n",
       "      <td>0.969</td>\n",
       "      <td>0.006</td>\n",
       "      <td>0.973</td>\n",
       "      <td>0.004</td>\n",
       "      <td>0.959</td>\n",
       "      <td>2.693</td>\n",
       "    </tr>\n",
       "    <tr>\n",
       "      <th>3</th>\n",
       "      <td>BAG</td>\n",
       "      <td>0.965</td>\n",
       "      <td>0.004</td>\n",
       "      <td>0.978</td>\n",
       "      <td>0.005</td>\n",
       "      <td>0.972</td>\n",
       "      <td>16.471</td>\n",
       "    </tr>\n",
       "    <tr>\n",
       "      <th>4</th>\n",
       "      <td>CART</td>\n",
       "      <td>0.956</td>\n",
       "      <td>0.006</td>\n",
       "      <td>0.975</td>\n",
       "      <td>0.005</td>\n",
       "      <td>0.917</td>\n",
       "      <td>1.347</td>\n",
       "    </tr>\n",
       "  </tbody>\n",
       "</table>\n",
       "</div>"
      ],
      "text/plain": [
       "  classifier  accuracy_mean  accuracy_sd  precision_mean  precision_sd    AUC  \\\n",
       "0         RF          0.972        0.005           0.981         0.003  0.978   \n",
       "1        MLP          0.972        0.003           0.980         0.004  0.976   \n",
       "2        ADA          0.969        0.006           0.973         0.004  0.959   \n",
       "3        BAG          0.965        0.004           0.978         0.005  0.972   \n",
       "4       CART          0.956        0.006           0.975         0.005  0.917   \n",
       "\n",
       "   time_s  \n",
       "0   4.710  \n",
       "1  14.200  \n",
       "2   2.693  \n",
       "3  16.471  \n",
       "4   1.347  "
      ]
     },
     "execution_count": 83,
     "metadata": {},
     "output_type": "execute_result"
    }
   ],
   "source": [
    "Sparsetab1 = pd.DataFrame.from_dict(dicoSparse1)\n",
    "Sparsetab1.sort_values(by=['accuracy_mean', 'precision_mean', 'AUC'], ascending=False)"
   ]
  },
  {
   "cell_type": "code",
   "execution_count": 72,
   "metadata": {},
   "outputs": [],
   "source": [
    "from sklearn.feature_extraction.text import TfidfTransformer\n",
    "tf1 = TfidfTransformer()\n",
    "Xtf1 = tf1.fit_transform(X)\n",
    "# run_classifiers"
   ]
  },
  {
   "cell_type": "code",
   "execution_count": null,
   "metadata": {},
   "outputs": [],
   "source": [
    "from sklearn.decomposition import TruncatedSVD\n",
    "\n",
    "svd1 = TruncatedSVD(n_components=)\n",
    "Xsvd1 = svd1.fit_transform(Xtf1)\n",
    "# run_classifiers"
   ]
  },
  {
   "cell_type": "code",
   "execution_count": null,
   "metadata": {},
   "outputs": [],
   "source": [
    "####  -------"
   ]
  },
  {
   "cell_type": "code",
   "execution_count": null,
   "metadata": {},
   "outputs": [],
   "source": [
    "kf = KFold(n_splits=5, shuffle=True, random_state=0)\n",
    "cvAccur = cross_val_score(DecisionTreeClassifier(random_state=1), X.toarray(), list(Ys), cv=kf, n_jobs=4)"
   ]
  },
  {
   "cell_type": "code",
   "execution_count": 69,
   "metadata": {},
   "outputs": [
    {
     "data": {
      "text/plain": [
       "array([0.97578475, 0.97219731, 0.96678636, 0.96768402, 0.97396768])"
      ]
     },
     "execution_count": 69,
     "metadata": {},
     "output_type": "execute_result"
    }
   ],
   "source": [
    "cvAccur\n"
   ]
  }
 ],
 "metadata": {
  "kernelspec": {
   "display_name": "Python 3",
   "language": "python",
   "name": "python3"
  },
  "language_info": {
   "codemirror_mode": {
    "name": "ipython",
    "version": 3
   },
   "file_extension": ".py",
   "mimetype": "text/x-python",
   "name": "python",
   "nbconvert_exporter": "python",
   "pygments_lexer": "ipython3",
   "version": "3.8.5"
  }
 },
 "nbformat": 4,
 "nbformat_minor": 4
}
