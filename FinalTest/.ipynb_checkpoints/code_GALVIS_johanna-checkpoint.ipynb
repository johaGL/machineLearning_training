{
 "cells": [
  {
   "cell_type": "markdown",
   "metadata": {},
   "source": [
    "EXAM johanna GALVIS RODRIGUEZ"
   ]
  },
  {
   "cell_type": "code",
   "execution_count": 98,
   "metadata": {},
   "outputs": [],
   "source": [
    "import numpy as np\n",
    "np.set_printoptions(threshold=10000,suppress=True)\n",
    "import pandas as pd\n",
    "import warnings\n",
    "import matplotlib.pyplot as plt\n",
    "from sklearn import model_selection\n",
    "warnings.filterwarnings('ignore')\n",
    "from sklearn.tree import DecisionTreeClassifier\n",
    "from sklearn.neighbors import KNeighborsClassifier\n",
    "from sklearn.neural_network import MLPClassifier\n",
    "from sklearn import tree\n",
    "from sklearn.metrics import confusion_matrix, accuracy_score, precision_score, recall_score\n",
    "from sklearn.preprocessing import StandardScaler, MinMaxScaler\n",
    "from sklearn.decomposition import PCA\n",
    "from sklearn.ensemble import RandomForestClassifier\n",
    "from sklearn.ensemble import AdaBoostClassifier, BaggingClassifier\n",
    "from sklearn.naive_bayes import GaussianNB\n",
    "from sklearn.model_selection import cross_val_score, KFold, cross_val_predict\n",
    "import time"
   ]
  },
  {
   "cell_type": "code",
   "execution_count": 18,
   "metadata": {},
   "outputs": [],
   "source": [
    "from sklearn.impute import SimpleImputer as Imputer\n",
    "from sklearn.preprocessing import OneHotEncoder"
   ]
  },
  {
   "cell_type": "code",
   "execution_count": 123,
   "metadata": {},
   "outputs": [
    {
     "data": {
      "text/html": [
       "<div>\n",
       "<style scoped>\n",
       "    .dataframe tbody tr th:only-of-type {\n",
       "        vertical-align: middle;\n",
       "    }\n",
       "\n",
       "    .dataframe tbody tr th {\n",
       "        vertical-align: top;\n",
       "    }\n",
       "\n",
       "    .dataframe thead th {\n",
       "        text-align: right;\n",
       "    }\n",
       "</style>\n",
       "<table border=\"1\" class=\"dataframe\">\n",
       "  <thead>\n",
       "    <tr style=\"text-align: right;\">\n",
       "      <th></th>\n",
       "      <th>LB</th>\n",
       "      <th>AC</th>\n",
       "      <th>FM</th>\n",
       "      <th>UC</th>\n",
       "      <th>ASTV</th>\n",
       "      <th>MSTV</th>\n",
       "      <th>ALTV</th>\n",
       "      <th>MLTV</th>\n",
       "      <th>DL</th>\n",
       "      <th>DS</th>\n",
       "      <th>...</th>\n",
       "      <th>Min</th>\n",
       "      <th>Max</th>\n",
       "      <th>Nmax</th>\n",
       "      <th>Nzeros</th>\n",
       "      <th>Mode</th>\n",
       "      <th>Mean</th>\n",
       "      <th>Median</th>\n",
       "      <th>Variance</th>\n",
       "      <th>Tendency</th>\n",
       "      <th>Classe</th>\n",
       "    </tr>\n",
       "    <tr>\n",
       "      <th>ID</th>\n",
       "      <th></th>\n",
       "      <th></th>\n",
       "      <th></th>\n",
       "      <th></th>\n",
       "      <th></th>\n",
       "      <th></th>\n",
       "      <th></th>\n",
       "      <th></th>\n",
       "      <th></th>\n",
       "      <th></th>\n",
       "      <th></th>\n",
       "      <th></th>\n",
       "      <th></th>\n",
       "      <th></th>\n",
       "      <th></th>\n",
       "      <th></th>\n",
       "      <th></th>\n",
       "      <th></th>\n",
       "      <th></th>\n",
       "      <th></th>\n",
       "      <th></th>\n",
       "    </tr>\n",
       "  </thead>\n",
       "  <tbody>\n",
       "    <tr>\n",
       "      <th>1</th>\n",
       "      <td>120</td>\n",
       "      <td>0</td>\n",
       "      <td>0</td>\n",
       "      <td>0</td>\n",
       "      <td>73</td>\n",
       "      <td>0.5</td>\n",
       "      <td>43</td>\n",
       "      <td>2.4</td>\n",
       "      <td>0</td>\n",
       "      <td>0</td>\n",
       "      <td>...</td>\n",
       "      <td>62</td>\n",
       "      <td>126</td>\n",
       "      <td>2</td>\n",
       "      <td>0</td>\n",
       "      <td>120</td>\n",
       "      <td>137</td>\n",
       "      <td>121</td>\n",
       "      <td>73</td>\n",
       "      <td>1</td>\n",
       "      <td>2</td>\n",
       "    </tr>\n",
       "    <tr>\n",
       "      <th>2</th>\n",
       "      <td>132</td>\n",
       "      <td>4</td>\n",
       "      <td>0</td>\n",
       "      <td>4</td>\n",
       "      <td>17</td>\n",
       "      <td>2.1</td>\n",
       "      <td>0</td>\n",
       "      <td>10.4</td>\n",
       "      <td>2</td>\n",
       "      <td>0</td>\n",
       "      <td>...</td>\n",
       "      <td>68</td>\n",
       "      <td>198</td>\n",
       "      <td>6</td>\n",
       "      <td>1</td>\n",
       "      <td>141</td>\n",
       "      <td>136</td>\n",
       "      <td>140</td>\n",
       "      <td>12</td>\n",
       "      <td>0</td>\n",
       "      <td>1</td>\n",
       "    </tr>\n",
       "  </tbody>\n",
       "</table>\n",
       "<p>2 rows × 23 columns</p>\n",
       "</div>"
      ],
      "text/plain": [
       "     LB  AC  FM  UC  ASTV  MSTV  ALTV  MLTV  DL  DS  ...  Min  Max  Nmax  \\\n",
       "ID                                                   ...                   \n",
       "1   120   0   0   0    73   0.5    43   2.4   0   0  ...   62  126     2   \n",
       "2   132   4   0   4    17   2.1     0  10.4   2   0  ...   68  198     6   \n",
       "\n",
       "    Nzeros  Mode  Mean  Median  Variance  Tendency  Classe  \n",
       "ID                                                          \n",
       "1        0   120   137     121        73         1       2  \n",
       "2        1   141   136     140        12         0       1  \n",
       "\n",
       "[2 rows x 23 columns]"
      ]
     },
     "execution_count": 123,
     "metadata": {},
     "output_type": "execute_result"
    }
   ],
   "source": [
    "datatrain = pd.read_csv(\"Train.csv\", sep=';', header=0, index_col=0, decimal=\",\")\n",
    "datatrain.head(2) "
   ]
  },
  {
   "cell_type": "code",
   "execution_count": 124,
   "metadata": {},
   "outputs": [
    {
     "data": {
      "text/html": [
       "<div>\n",
       "<style scoped>\n",
       "    .dataframe tbody tr th:only-of-type {\n",
       "        vertical-align: middle;\n",
       "    }\n",
       "\n",
       "    .dataframe tbody tr th {\n",
       "        vertical-align: top;\n",
       "    }\n",
       "\n",
       "    .dataframe thead th {\n",
       "        text-align: right;\n",
       "    }\n",
       "</style>\n",
       "<table border=\"1\" class=\"dataframe\">\n",
       "  <thead>\n",
       "    <tr style=\"text-align: right;\">\n",
       "      <th></th>\n",
       "      <th>LB</th>\n",
       "      <th>AC</th>\n",
       "      <th>FM</th>\n",
       "      <th>UC</th>\n",
       "      <th>ASTV</th>\n",
       "      <th>MSTV</th>\n",
       "      <th>ALTV</th>\n",
       "      <th>MLTV</th>\n",
       "      <th>DL</th>\n",
       "      <th>DS</th>\n",
       "      <th>...</th>\n",
       "      <th>Width</th>\n",
       "      <th>Min</th>\n",
       "      <th>Max</th>\n",
       "      <th>Nmax</th>\n",
       "      <th>Nzeros</th>\n",
       "      <th>Mode</th>\n",
       "      <th>Mean</th>\n",
       "      <th>Median</th>\n",
       "      <th>Variance</th>\n",
       "      <th>Tendency</th>\n",
       "    </tr>\n",
       "    <tr>\n",
       "      <th>ID</th>\n",
       "      <th></th>\n",
       "      <th></th>\n",
       "      <th></th>\n",
       "      <th></th>\n",
       "      <th></th>\n",
       "      <th></th>\n",
       "      <th></th>\n",
       "      <th></th>\n",
       "      <th></th>\n",
       "      <th></th>\n",
       "      <th></th>\n",
       "      <th></th>\n",
       "      <th></th>\n",
       "      <th></th>\n",
       "      <th></th>\n",
       "      <th></th>\n",
       "      <th></th>\n",
       "      <th></th>\n",
       "      <th></th>\n",
       "      <th></th>\n",
       "      <th></th>\n",
       "    </tr>\n",
       "  </thead>\n",
       "  <tbody>\n",
       "    <tr>\n",
       "      <th>1639</th>\n",
       "      <td>130</td>\n",
       "      <td>2</td>\n",
       "      <td>0</td>\n",
       "      <td>4</td>\n",
       "      <td>25</td>\n",
       "      <td>1.7</td>\n",
       "      <td>0</td>\n",
       "      <td>0.0</td>\n",
       "      <td>4</td>\n",
       "      <td>0</td>\n",
       "      <td>...</td>\n",
       "      <td>94</td>\n",
       "      <td>76</td>\n",
       "      <td>170</td>\n",
       "      <td>6</td>\n",
       "      <td>0</td>\n",
       "      <td>133</td>\n",
       "      <td>119</td>\n",
       "      <td>121</td>\n",
       "      <td>73</td>\n",
       "      <td>0</td>\n",
       "    </tr>\n",
       "    <tr>\n",
       "      <th>1640</th>\n",
       "      <td>133</td>\n",
       "      <td>1</td>\n",
       "      <td>0</td>\n",
       "      <td>4</td>\n",
       "      <td>25</td>\n",
       "      <td>1.7</td>\n",
       "      <td>0</td>\n",
       "      <td>0.0</td>\n",
       "      <td>4</td>\n",
       "      <td>0</td>\n",
       "      <td>...</td>\n",
       "      <td>94</td>\n",
       "      <td>76</td>\n",
       "      <td>170</td>\n",
       "      <td>6</td>\n",
       "      <td>0</td>\n",
       "      <td>133</td>\n",
       "      <td>117</td>\n",
       "      <td>117</td>\n",
       "      <td>77</td>\n",
       "      <td>0</td>\n",
       "    </tr>\n",
       "  </tbody>\n",
       "</table>\n",
       "<p>2 rows × 22 columns</p>\n",
       "</div>"
      ],
      "text/plain": [
       "       LB  AC  FM  UC  ASTV  MSTV  ALTV  MLTV  DL  DS  ...  Width  Min  Max  \\\n",
       "ID                                                     ...                    \n",
       "1639  130   2   0   4    25   1.7     0   0.0   4   0  ...     94   76  170   \n",
       "1640  133   1   0   4    25   1.7     0   0.0   4   0  ...     94   76  170   \n",
       "\n",
       "      Nmax  Nzeros  Mode  Mean  Median  Variance  Tendency  \n",
       "ID                                                          \n",
       "1639     6       0   133   119     121        73         0  \n",
       "1640     6       0   133   117     117        77         0  \n",
       "\n",
       "[2 rows x 22 columns]"
      ]
     },
     "execution_count": 124,
     "metadata": {},
     "output_type": "execute_result"
    }
   ],
   "source": [
    "datatest = pd.read_csv(\"Test.csv\", sep=';', header=0, index_col=0, decimal=',')\n",
    "datatest.head(2) "
   ]
  },
  {
   "cell_type": "code",
   "execution_count": 125,
   "metadata": {},
   "outputs": [
    {
     "data": {
      "text/plain": [
       "(1638, 23)"
      ]
     },
     "execution_count": 125,
     "metadata": {},
     "output_type": "execute_result"
    }
   ],
   "source": [
    "datatrain.shape"
   ]
  },
  {
   "cell_type": "code",
   "execution_count": 136,
   "metadata": {},
   "outputs": [],
   "source": [
    "preX = datatrain.values\n",
    "preX = preX.astype(float)\n",
    "X_train = np.copy(preX[:,0:22]) \n"
   ]
  },
  {
   "cell_type": "code",
   "execution_count": 145,
   "metadata": {},
   "outputs": [],
   "source": [
    "Y_train = np.copy(preX[:,22:23]) "
   ]
  },
  {
   "cell_type": "code",
   "execution_count": 146,
   "metadata": {},
   "outputs": [],
   "source": [
    "# format target variable:\n",
    "Y_train[Y_train == 1] = 0\n",
    "Y_train[Y_train == 2] = 1"
   ]
  },
  {
   "cell_type": "code",
   "execution_count": 129,
   "metadata": {},
   "outputs": [
    {
     "data": {
      "text/plain": [
       "((488, 22), (1638, 22))"
      ]
     },
     "execution_count": 129,
     "metadata": {},
     "output_type": "execute_result"
    }
   ],
   "source": [
    "X_test = datatest.values\n",
    "X_test = X_test.astype(float)\n",
    "X_test.shape, X_train.shape"
   ]
  },
  {
   "cell_type": "code",
   "execution_count": 130,
   "metadata": {},
   "outputs": [],
   "source": [
    "scaler = StandardScaler()\n",
    "Xnorm_train = scaler.fit_transform(X_train)"
   ]
  },
  {
   "cell_type": "code",
   "execution_count": 131,
   "metadata": {},
   "outputs": [],
   "source": [
    "Xnorm_test = scaler.transform(X_test)"
   ]
  },
  {
   "cell_type": "code",
   "execution_count": 148,
   "metadata": {},
   "outputs": [],
   "source": [
    "# EFFICIENT PARAMETER TUNING :\n",
    "parRF ={\n",
    "    'n_estimators' : [50,70]\n",
    "}\n",
    "grid_RF = model_selection.GridSearchCV(RandomForestClassifier(), parRF, n_jobs=4, scoring='accuracy')\n",
    "\n",
    "parknn = {  \n",
    "   'n_neighbors': [5,7,11,13,15],\n",
    "    'weights' : ['uniform', 'distance']\n",
    "} \n",
    "\n",
    "grid_knn = model_selection.GridSearchCV(KNeighborsClassifier(), parknn, cv=5,\n",
    "                                      scoring='accuracy')\n",
    "\n",
    "parmlp = {\n",
    "    'hidden_layer_sizes': [(40,20), (45,23) , (50,30)],\n",
    "    'activation' : ['tanh', 'relu'],\n",
    "    'alpha' : [1e-3, 1e-4, 1e-5],\n",
    "    'solver' : ['lbfgs', 'sgd', 'adam'],\n",
    "    'max_iter' : [100,200]\n",
    "}\n",
    "grid_mlp = model_selection.GridSearchCV(MLPClassifier(), parmlp, cv=5, n_jobs=4,\n",
    "                             scoring='accuracy') \n",
    "\n",
    "parbag ={\n",
    "    'n_estimators' : [50,70]\n",
    "}\n",
    "grid_bag = model_selection.GridSearchCV(BaggingClassifier(), parbag, n_jobs=4, scoring='accuracy')"
   ]
  },
  {
   "cell_type": "code",
   "execution_count": 149,
   "metadata": {},
   "outputs": [
    {
     "name": "stdout",
     "output_type": "stream",
     "text": [
      "searching best parameters(gridSearcCV)\n",
      "RandomForestClassifier\n",
      "{'n_estimators': 70}\n",
      "0.934064294771388\n",
      "KNN\n",
      "{'n_neighbors': 7, 'weights': 'uniform'}\n",
      "0.8736257179085551\n",
      "MLP\n",
      "{'activation': 'relu', 'alpha': 0.001, 'hidden_layer_sizes': (50, 30), 'max_iter': 100, 'solver': 'adam'}\n",
      "0.9218766316103529\n"
     ]
    }
   ],
   "source": [
    "print(\"searching best parameters(gridSearcCV)\")\n",
    "\n",
    "print(\"RandomForestClassifier\")\n",
    "grid_RF.fit(Xnorm_train, Y_train)\n",
    "print(grid_RF.best_params_)\n",
    "print(grid_RF.best_score_)\n",
    "\n",
    "print(\"KNN\")\n",
    "grid_knn.fit(Xnorm_train, Y_train)\n",
    "print(grid_knn.best_params_)\n",
    "print(grid_knn.best_score_)\n",
    "\n",
    "print(\"MLP\")\n",
    "grid_mlp.fit(Xnorm_train, Y_train)\n",
    "print(grid_mlp.best_params_)\n",
    "print(grid_mlp.best_score_)\n",
    "\n"
   ]
  },
  {
   "cell_type": "code",
   "execution_count": 152,
   "metadata": {},
   "outputs": [
    {
     "name": "stdout",
     "output_type": "stream",
     "text": [
      "bagging\n",
      "{'n_estimators': 50}\n",
      "0.9224397702692622\n"
     ]
    }
   ],
   "source": [
    "print(\"bagging\")\n",
    "grid_bag.fit(Xnorm_train, Y_train)\n",
    "print(grid_bag.best_params_)\n",
    "print(grid_bag.best_score_)\n"
   ]
  },
  {
   "cell_type": "code",
   "execution_count": null,
   "metadata": {},
   "outputs": [],
   "source": []
  },
  {
   "cell_type": "code",
   "execution_count": null,
   "metadata": {},
   "outputs": [],
   "source": [
    "# dans mes résultats, MLP meme avec paramètres optimisés n'etait pas en tête \n",
    "# pour les accuracy (et prennais enormement de temps )\n",
    "# je teste plusieurs méthodes sauf MLP:"
   ]
  },
  {
   "cell_type": "code",
   "execution_count": 153,
   "metadata": {},
   "outputs": [],
   "source": [
    "# je mets à jour les params des algos que j'ai pu optimiser (pas le temps pour optim tous avec grid pour cet exam)\n",
    "clfs = {\n",
    "    'RF': RandomForestClassifier(n_estimators=70, random_state=1),\n",
    "    'KNN2' : KNeighborsClassifier(n_neighbors=7, weights='uniform'),\n",
    "    'ADA' : AdaBoostClassifier(n_estimators=50, random_state=1),\n",
    "    'BAG' : BaggingClassifier(n_estimators=50) ,\n",
    "    'NB' : GaussianNB(),\n",
    "    'CART' : DecisionTreeClassifier(criterion='gini'),\n",
    "    'ID3' : DecisionTreeClassifier(criterion='entropy'),\n",
    "    'ST' : DecisionTreeClassifier(max_depth=1) #decisionStump\n",
    "} "
   ]
  },
  {
   "cell_type": "code",
   "execution_count": 154,
   "metadata": {},
   "outputs": [],
   "source": [
    "## applying KFold method to do re-sampling (cross validation) when running\n",
    "def run_classifiers(clfs, X, Y):\n",
    "    dico = {'classifier':[],'accuracy_mean':[],'accuracy_sd':[], \n",
    "             'precision_mean':[], 'precision_sd':[], 'recall_mean' : [], 'recall_sd' : [],\n",
    "            'AUC':[], 'time_s':[]} #output into dictionnary\n",
    "    kf = KFold(n_splits=5, shuffle=True, random_state=0)\n",
    "    for clf_id in clfs:\n",
    "        initime = time.time()\n",
    "        clf = clfs[clf_id]\n",
    "        cvAccur = cross_val_score(clf, X, Y, cv=kf, scoring='accuracy')\n",
    "        end = time.time()\n",
    "        cvPrecision = cross_val_score(clf, X, Y, cv=kf, scoring='precision')\n",
    "        cvRecall = cross_val_score(clf, X, Y, cv=kf, scoring='recall')\n",
    "        cvAUC = cross_val_score(clf, X, Y, cv=kf, scoring='roc_auc')\n",
    "        dico['classifier'].append(clf_id)\n",
    "        dico['accuracy_mean'].append(round(np.mean(cvAccur),3))\n",
    "        dico['accuracy_sd'].append(round(np.std(cvAccur),3))\n",
    "        dico['precision_mean'].append(round(np.mean(cvPrecision),3))\n",
    "        dico['precision_sd'].append(round(np.std(cvPrecision),3))\n",
    "        dico['recall_mean'].append(round(np.mean(cvRecall),3))\n",
    "        dico['recall_sd'].append(round(np.std(cvRecall),3))\n",
    "        dico['AUC'].append(round(np.mean(cvAUC),3))\n",
    "        dico['time_s'].append(round((end-initime),3))\n",
    "    return dico"
   ]
  },
  {
   "cell_type": "code",
   "execution_count": 155,
   "metadata": {
    "scrolled": true
   },
   "outputs": [
    {
     "data": {
      "text/html": [
       "<div>\n",
       "<style scoped>\n",
       "    .dataframe tbody tr th:only-of-type {\n",
       "        vertical-align: middle;\n",
       "    }\n",
       "\n",
       "    .dataframe tbody tr th {\n",
       "        vertical-align: top;\n",
       "    }\n",
       "\n",
       "    .dataframe thead th {\n",
       "        text-align: right;\n",
       "    }\n",
       "</style>\n",
       "<table border=\"1\" class=\"dataframe\">\n",
       "  <thead>\n",
       "    <tr style=\"text-align: right;\">\n",
       "      <th></th>\n",
       "      <th>classifier</th>\n",
       "      <th>accuracy_mean</th>\n",
       "      <th>accuracy_sd</th>\n",
       "      <th>precision_mean</th>\n",
       "      <th>precision_sd</th>\n",
       "      <th>recall_mean</th>\n",
       "      <th>recall_sd</th>\n",
       "      <th>AUC</th>\n",
       "      <th>time_s</th>\n",
       "    </tr>\n",
       "  </thead>\n",
       "  <tbody>\n",
       "    <tr>\n",
       "      <th>0</th>\n",
       "      <td>RF</td>\n",
       "      <td>0.954</td>\n",
       "      <td>0.014</td>\n",
       "      <td>0.947</td>\n",
       "      <td>0.009</td>\n",
       "      <td>0.880</td>\n",
       "      <td>0.050</td>\n",
       "      <td>0.989</td>\n",
       "      <td>1.034</td>\n",
       "    </tr>\n",
       "    <tr>\n",
       "      <th>1</th>\n",
       "      <td>KNN2</td>\n",
       "      <td>0.916</td>\n",
       "      <td>0.009</td>\n",
       "      <td>0.905</td>\n",
       "      <td>0.013</td>\n",
       "      <td>0.770</td>\n",
       "      <td>0.029</td>\n",
       "      <td>0.956</td>\n",
       "      <td>0.144</td>\n",
       "    </tr>\n",
       "    <tr>\n",
       "      <th>2</th>\n",
       "      <td>ADA</td>\n",
       "      <td>0.952</td>\n",
       "      <td>0.009</td>\n",
       "      <td>0.924</td>\n",
       "      <td>0.016</td>\n",
       "      <td>0.900</td>\n",
       "      <td>0.034</td>\n",
       "      <td>0.987</td>\n",
       "      <td>0.879</td>\n",
       "    </tr>\n",
       "    <tr>\n",
       "      <th>3</th>\n",
       "      <td>BAG</td>\n",
       "      <td>0.960</td>\n",
       "      <td>0.017</td>\n",
       "      <td>0.956</td>\n",
       "      <td>0.009</td>\n",
       "      <td>0.891</td>\n",
       "      <td>0.032</td>\n",
       "      <td>0.985</td>\n",
       "      <td>2.144</td>\n",
       "    </tr>\n",
       "    <tr>\n",
       "      <th>4</th>\n",
       "      <td>NB</td>\n",
       "      <td>0.897</td>\n",
       "      <td>0.024</td>\n",
       "      <td>0.826</td>\n",
       "      <td>0.035</td>\n",
       "      <td>0.784</td>\n",
       "      <td>0.095</td>\n",
       "      <td>0.957</td>\n",
       "      <td>0.013</td>\n",
       "    </tr>\n",
       "    <tr>\n",
       "      <th>5</th>\n",
       "      <td>CART</td>\n",
       "      <td>0.941</td>\n",
       "      <td>0.012</td>\n",
       "      <td>0.891</td>\n",
       "      <td>0.012</td>\n",
       "      <td>0.895</td>\n",
       "      <td>0.046</td>\n",
       "      <td>0.927</td>\n",
       "      <td>0.055</td>\n",
       "    </tr>\n",
       "    <tr>\n",
       "      <th>6</th>\n",
       "      <td>ID3</td>\n",
       "      <td>0.933</td>\n",
       "      <td>0.019</td>\n",
       "      <td>0.894</td>\n",
       "      <td>0.042</td>\n",
       "      <td>0.877</td>\n",
       "      <td>0.045</td>\n",
       "      <td>0.925</td>\n",
       "      <td>0.042</td>\n",
       "    </tr>\n",
       "    <tr>\n",
       "      <th>7</th>\n",
       "      <td>ST</td>\n",
       "      <td>0.926</td>\n",
       "      <td>0.007</td>\n",
       "      <td>0.947</td>\n",
       "      <td>0.017</td>\n",
       "      <td>0.768</td>\n",
       "      <td>0.027</td>\n",
       "      <td>0.876</td>\n",
       "      <td>0.014</td>\n",
       "    </tr>\n",
       "  </tbody>\n",
       "</table>\n",
       "</div>"
      ],
      "text/plain": [
       "  classifier  accuracy_mean  accuracy_sd  precision_mean  precision_sd  \\\n",
       "0         RF          0.954        0.014           0.947         0.009   \n",
       "1       KNN2          0.916        0.009           0.905         0.013   \n",
       "2        ADA          0.952        0.009           0.924         0.016   \n",
       "3        BAG          0.960        0.017           0.956         0.009   \n",
       "4         NB          0.897        0.024           0.826         0.035   \n",
       "5       CART          0.941        0.012           0.891         0.012   \n",
       "6        ID3          0.933        0.019           0.894         0.042   \n",
       "7         ST          0.926        0.007           0.947         0.017   \n",
       "\n",
       "   recall_mean  recall_sd    AUC  time_s  \n",
       "0        0.880      0.050  0.989   1.034  \n",
       "1        0.770      0.029  0.956   0.144  \n",
       "2        0.900      0.034  0.987   0.879  \n",
       "3        0.891      0.032  0.985   2.144  \n",
       "4        0.784      0.095  0.957   0.013  \n",
       "5        0.895      0.046  0.927   0.055  \n",
       "6        0.877      0.045  0.925   0.042  \n",
       "7        0.768      0.027  0.876   0.014  "
      ]
     },
     "execution_count": 155,
     "metadata": {},
     "output_type": "execute_result"
    }
   ],
   "source": [
    "dd = run_classifiers(clfs, X_train, Y_train)\n",
    "pd.DataFrame.from_dict(dd)"
   ]
  },
  {
   "cell_type": "code",
   "execution_count": null,
   "metadata": {},
   "outputs": [],
   "source": [
    "# le meilleur étant le bagging, je le choisis pour la prédiction"
   ]
  },
  {
   "cell_type": "code",
   "execution_count": 156,
   "metadata": {},
   "outputs": [],
   "source": [
    "# HERE I DO PREDICTION\n",
    "meth = BaggingClassifier(n_estimators=50, random_state=1)\n",
    "meth.fit(Xnorm_train, Y_train)\n",
    "predicted = meth.predict(Xnorm_test)"
   ]
  },
  {
   "cell_type": "code",
   "execution_count": 157,
   "metadata": {},
   "outputs": [
    {
     "data": {
      "text/plain": [
       "488"
      ]
     },
     "execution_count": 157,
     "metadata": {},
     "output_type": "execute_result"
    }
   ],
   "source": [
    "len(predicted)"
   ]
  },
  {
   "cell_type": "code",
   "execution_count": 167,
   "metadata": {},
   "outputs": [],
   "source": [
    "individus = datatest.index.values"
   ]
  },
  {
   "cell_type": "code",
   "execution_count": 168,
   "metadata": {},
   "outputs": [
    {
     "data": {
      "text/html": [
       "<div>\n",
       "<style scoped>\n",
       "    .dataframe tbody tr th:only-of-type {\n",
       "        vertical-align: middle;\n",
       "    }\n",
       "\n",
       "    .dataframe tbody tr th {\n",
       "        vertical-align: top;\n",
       "    }\n",
       "\n",
       "    .dataframe thead th {\n",
       "        text-align: right;\n",
       "    }\n",
       "</style>\n",
       "<table border=\"1\" class=\"dataframe\">\n",
       "  <thead>\n",
       "    <tr style=\"text-align: right;\">\n",
       "      <th></th>\n",
       "      <th>predicted</th>\n",
       "    </tr>\n",
       "  </thead>\n",
       "  <tbody>\n",
       "    <tr>\n",
       "      <th>1639</th>\n",
       "      <td>0.0</td>\n",
       "    </tr>\n",
       "    <tr>\n",
       "      <th>1640</th>\n",
       "      <td>0.0</td>\n",
       "    </tr>\n",
       "    <tr>\n",
       "      <th>1641</th>\n",
       "      <td>0.0</td>\n",
       "    </tr>\n",
       "    <tr>\n",
       "      <th>1642</th>\n",
       "      <td>1.0</td>\n",
       "    </tr>\n",
       "    <tr>\n",
       "      <th>1643</th>\n",
       "      <td>0.0</td>\n",
       "    </tr>\n",
       "    <tr>\n",
       "      <th>...</th>\n",
       "      <td>...</td>\n",
       "    </tr>\n",
       "    <tr>\n",
       "      <th>2122</th>\n",
       "      <td>1.0</td>\n",
       "    </tr>\n",
       "    <tr>\n",
       "      <th>2123</th>\n",
       "      <td>1.0</td>\n",
       "    </tr>\n",
       "    <tr>\n",
       "      <th>2124</th>\n",
       "      <td>1.0</td>\n",
       "    </tr>\n",
       "    <tr>\n",
       "      <th>2125</th>\n",
       "      <td>1.0</td>\n",
       "    </tr>\n",
       "    <tr>\n",
       "      <th>2126</th>\n",
       "      <td>1.0</td>\n",
       "    </tr>\n",
       "  </tbody>\n",
       "</table>\n",
       "<p>488 rows × 1 columns</p>\n",
       "</div>"
      ],
      "text/plain": [
       "      predicted\n",
       "1639        0.0\n",
       "1640        0.0\n",
       "1641        0.0\n",
       "1642        1.0\n",
       "1643        0.0\n",
       "...         ...\n",
       "2122        1.0\n",
       "2123        1.0\n",
       "2124        1.0\n",
       "2125        1.0\n",
       "2126        1.0\n",
       "\n",
       "[488 rows x 1 columns]"
      ]
     },
     "execution_count": 168,
     "metadata": {},
     "output_type": "execute_result"
    }
   ],
   "source": [
    "individus = datatest.index.values\n",
    "dfout = pd.DataFrame(predicted, index=individus, columns=[\"predicted\"])\n",
    "dfout"
   ]
  },
  {
   "cell_type": "code",
   "execution_count": 169,
   "metadata": {},
   "outputs": [],
   "source": [
    "dfout.to_csv(\"prediction_galvis_johanna.csv\", sep=\",\")"
   ]
  },
  {
   "cell_type": "code",
   "execution_count": 90,
   "metadata": {},
   "outputs": [],
   "source": []
  },
  {
   "cell_type": "code",
   "execution_count": null,
   "metadata": {},
   "outputs": [],
   "source": []
  }
 ],
 "metadata": {
  "kernelspec": {
   "display_name": ".venv3",
   "language": "python",
   "name": ".venv3"
  },
  "language_info": {
   "codemirror_mode": {
    "name": "ipython",
    "version": 3
   },
   "file_extension": ".py",
   "mimetype": "text/x-python",
   "name": "python",
   "nbconvert_exporter": "python",
   "pygments_lexer": "ipython3",
   "version": "3.8.5"
  }
 },
 "nbformat": 4,
 "nbformat_minor": 4
}
