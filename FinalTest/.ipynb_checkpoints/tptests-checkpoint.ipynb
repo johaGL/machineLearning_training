{
 "cells": [
  {
   "cell_type": "markdown",
   "metadata": {},
   "source": [
    "#### tp as\n",
    "# *S u p e r v i s e d   L e a r n i n g*\n",
    "# I. ...."
   ]
  },
  {
   "cell_type": "code",
   "execution_count": 1,
   "metadata": {},
   "outputs": [],
   "source": [
    "import numpy as np\n",
    "np.set_printoptions(threshold=10000,suppress=True)\n",
    "import pandas as pd\n",
    "import warnings\n",
    "import matplotlib.pyplot as plt\n",
    "from sklearn import model_selection\n",
    "warnings.filterwarnings('ignore')"
   ]
  },
  {
   "cell_type": "code",
   "execution_count": 2,
   "metadata": {},
   "outputs": [],
   "source": [
    "credd = pd.read_csv(\"credit_scoring.csv\", sep=\";\", header=0)"
   ]
  },
  {
   "cell_type": "code",
   "execution_count": 3,
   "metadata": {},
   "outputs": [
    {
     "data": {
      "text/html": [
       "<div>\n",
       "<style scoped>\n",
       "    .dataframe tbody tr th:only-of-type {\n",
       "        vertical-align: middle;\n",
       "    }\n",
       "\n",
       "    .dataframe tbody tr th {\n",
       "        vertical-align: top;\n",
       "    }\n",
       "\n",
       "    .dataframe thead th {\n",
       "        text-align: right;\n",
       "    }\n",
       "</style>\n",
       "<table border=\"1\" class=\"dataframe\">\n",
       "  <thead>\n",
       "    <tr style=\"text-align: right;\">\n",
       "      <th></th>\n",
       "      <th>Seniority</th>\n",
       "      <th>Home</th>\n",
       "      <th>Time</th>\n",
       "      <th>Age</th>\n",
       "      <th>Marital</th>\n",
       "      <th>Records</th>\n",
       "      <th>Job</th>\n",
       "      <th>Expenses</th>\n",
       "      <th>Income</th>\n",
       "      <th>Assets</th>\n",
       "      <th>Debt</th>\n",
       "      <th>Amount</th>\n",
       "      <th>Price</th>\n",
       "      <th>Status</th>\n",
       "    </tr>\n",
       "  </thead>\n",
       "  <tbody>\n",
       "    <tr>\n",
       "      <th>0</th>\n",
       "      <td>9.0</td>\n",
       "      <td>1.0</td>\n",
       "      <td>60.0</td>\n",
       "      <td>30.0</td>\n",
       "      <td>0.0</td>\n",
       "      <td>1.0</td>\n",
       "      <td>1.0</td>\n",
       "      <td>73.0</td>\n",
       "      <td>129.0</td>\n",
       "      <td>0.0</td>\n",
       "      <td>0.0</td>\n",
       "      <td>800.0</td>\n",
       "      <td>846.0</td>\n",
       "      <td>1</td>\n",
       "    </tr>\n",
       "    <tr>\n",
       "      <th>1</th>\n",
       "      <td>17.0</td>\n",
       "      <td>1.0</td>\n",
       "      <td>60.0</td>\n",
       "      <td>58.0</td>\n",
       "      <td>1.0</td>\n",
       "      <td>1.0</td>\n",
       "      <td>0.0</td>\n",
       "      <td>48.0</td>\n",
       "      <td>131.0</td>\n",
       "      <td>0.0</td>\n",
       "      <td>0.0</td>\n",
       "      <td>1000.0</td>\n",
       "      <td>1658.0</td>\n",
       "      <td>1</td>\n",
       "    </tr>\n",
       "    <tr>\n",
       "      <th>2</th>\n",
       "      <td>10.0</td>\n",
       "      <td>0.0</td>\n",
       "      <td>36.0</td>\n",
       "      <td>46.0</td>\n",
       "      <td>0.0</td>\n",
       "      <td>2.0</td>\n",
       "      <td>1.0</td>\n",
       "      <td>90.0</td>\n",
       "      <td>200.0</td>\n",
       "      <td>3000.0</td>\n",
       "      <td>0.0</td>\n",
       "      <td>2000.0</td>\n",
       "      <td>2985.0</td>\n",
       "      <td>0</td>\n",
       "    </tr>\n",
       "  </tbody>\n",
       "</table>\n",
       "</div>"
      ],
      "text/plain": [
       "   Seniority  Home  Time   Age  Marital  Records  Job  Expenses  Income  \\\n",
       "0        9.0   1.0  60.0  30.0      0.0      1.0  1.0      73.0   129.0   \n",
       "1       17.0   1.0  60.0  58.0      1.0      1.0  0.0      48.0   131.0   \n",
       "2       10.0   0.0  36.0  46.0      0.0      2.0  1.0      90.0   200.0   \n",
       "\n",
       "   Assets  Debt  Amount   Price  Status  \n",
       "0     0.0   0.0   800.0   846.0       1  \n",
       "1     0.0   0.0  1000.0  1658.0       1  \n",
       "2  3000.0   0.0  2000.0  2985.0       0  "
      ]
     },
     "execution_count": 3,
     "metadata": {},
     "output_type": "execute_result"
    }
   ],
   "source": [
    "credd.head(3) # variable bi-class 'Status' is the last column"
   ]
  },
  {
   "cell_type": "code",
   "execution_count": 4,
   "metadata": {},
   "outputs": [
    {
     "data": {
      "text/plain": [
       "((4375, 14), 'NA values ==> 0')"
      ]
     },
     "execution_count": 4,
     "metadata": {},
     "output_type": "execute_result"
    }
   ],
   "source": [
    "credd.shape, f\"NA values ==> {credd.isnull().sum().sum()}\" #shape and CHECK IF empty (NaN, NA) cells"
   ]
  },
  {
   "cell_type": "code",
   "execution_count": 5,
   "metadata": {},
   "outputs": [],
   "source": [
    "YstatusPS = credd.pop('Status') # detach this column from df\n",
    "Ystatus = YstatusPS.to_numpy() # the numpy Y vector"
   ]
  },
  {
   "cell_type": "code",
   "execution_count": 6,
   "metadata": {},
   "outputs": [
    {
     "data": {
      "text/plain": [
       "((4375,), (4375, 13))"
      ]
     },
     "execution_count": 6,
     "metadata": {},
     "output_type": "execute_result"
    }
   ],
   "source": [
    "Ystatus.shape, credd.shape # verifying dimensions both objects"
   ]
  },
  {
   "cell_type": "code",
   "execution_count": 7,
   "metadata": {},
   "outputs": [
    {
     "name": "stdout",
     "output_type": "stream",
     "text": [
      "Good payers 72.21 %, Bad payers : 27.79%\n"
     ]
    }
   ],
   "source": [
    "GP = 100*np.sum(Ystatus==1)/len(Ystatus) #good payers\n",
    "BP = 100*np.sum(Ystatus==0)/len(Ystatus) #bad payers\n",
    "print ('Good payers {0:.2f} %, Bad payers : {1:.2f}%'.format(GP,BP))"
   ]
  },
  {
   "cell_type": "code",
   "execution_count": 8,
   "metadata": {},
   "outputs": [
    {
     "data": {
      "text/plain": [
       "(4375, 13)"
      ]
     },
     "execution_count": 8,
     "metadata": {},
     "output_type": "execute_result"
    }
   ],
   "source": [
    "Xcred = credd.values  # the numpy X array\n",
    "Xcred.shape"
   ]
  },
  {
   "cell_type": "code",
   "execution_count": 9,
   "metadata": {},
   "outputs": [],
   "source": [
    "labels = np.array([i for i in credd.head(0)])"
   ]
  },
  {
   "cell_type": "code",
   "execution_count": 10,
   "metadata": {},
   "outputs": [],
   "source": [
    "# split X into two matrices, same for Y vector:\n",
    "Xcr_train, Xcr_test, Ycr_train, Ycr_test = model_selection.train_test_split(\n",
    "Xcred, Ystatus, test_size=0.5, random_state=1) # random_state :  effect on the reproducibility of the results"
   ]
  },
  {
   "cell_type": "code",
   "execution_count": 11,
   "metadata": {},
   "outputs": [
    {
     "data": {
      "text/plain": [
       "array([[ 2.,  1., 48.],\n",
       "       [15.,  0., 24.],\n",
       "       [ 1.,  1., 48.]])"
      ]
     },
     "execution_count": 11,
     "metadata": {},
     "output_type": "execute_result"
    }
   ],
   "source": [
    "Xcr_train[0:3,0:3] # ?keep?"
   ]
  },
  {
   "cell_type": "code",
   "execution_count": 12,
   "metadata": {},
   "outputs": [],
   "source": [
    "# we have then '_train' data for learning phase and '_test' data for prediction, as follows:"
   ]
  },
  {
   "cell_type": "markdown",
   "metadata": {},
   "source": [
    "### Applying CART, KNN and Multilayer Perceptron to raw matrix"
   ]
  },
  {
   "cell_type": "code",
   "execution_count": 13,
   "metadata": {},
   "outputs": [],
   "source": [
    "from sklearn.tree import DecisionTreeClassifier\n",
    "from sklearn.neighbors import KNeighborsClassifier\n",
    "from sklearn.neural_network import MLPClassifier\n",
    "from sklearn import tree\n",
    "from sklearn.metrics import confusion_matrix, accuracy_score, precision_score, recall_score\n",
    "from sklearn.preprocessing import StandardScaler, MinMaxScaler"
   ]
  },
  {
   "cell_type": "code",
   "execution_count": 14,
   "metadata": {},
   "outputs": [
    {
     "data": {
      "text/plain": [
       "DecisionTreeClassifier(random_state=1)"
      ]
     },
     "execution_count": 14,
     "metadata": {},
     "output_type": "execute_result"
    }
   ],
   "source": [
    "dtc = DecisionTreeClassifier(random_state=1) # \"Gini\" is default\n",
    "dtc.fit(Xcr_train, Ycr_train) \n",
    "# normalization not compulsory, but missing values can yield errors. Already checked above\n"
   ]
  },
  {
   "cell_type": "code",
   "execution_count": 15,
   "metadata": {},
   "outputs": [],
   "source": [
    "#fig = plt.figure()\n",
    "#_ = tree.plot_tree(dtc)\n",
    "#fig.show(_)"
   ]
  },
  {
   "cell_type": "raw",
   "metadata": {},
   "source": [
    "as we see here, this tree is wide and deep, in this case one solution can be pruning the tree, for the moment we will check predictions using the model without prunning. TREES DO NOT CONSIDER CORRELATION BETWEEN VARIABLES, IT TREATS EACH VARIABLE DIFFERENTLY FROM THE OTHERS TO CLASSIFY PERTINENT ONES"
   ]
  },
  {
   "cell_type": "code",
   "execution_count": 16,
   "metadata": {
    "scrolled": true
   },
   "outputs": [
    {
     "name": "stdout",
     "output_type": "stream",
     "text": [
      "[[ 325  279]\n",
      " [ 318 1266]]\n"
     ]
    }
   ],
   "source": [
    "predicted = dtc.predict(Xcr_test)\n",
    "print(confusion_matrix(Ycr_test, predicted))"
   ]
  },
  {
   "cell_type": "code",
   "execution_count": 17,
   "metadata": {},
   "outputs": [
    {
     "name": "stdout",
     "output_type": "stream",
     "text": [
      "318\n"
     ]
    }
   ],
   "source": [
    "print(len([t for t,p in zip(Ycr_test, predicted) if t == 1 and t != p])) # pred 0 when test 1  == FN"
   ]
  },
  {
   "cell_type": "code",
   "execution_count": 18,
   "metadata": {},
   "outputs": [
    {
     "name": "stdout",
     "output_type": "stream",
     "text": [
      "[[ 325  279]\n",
      " [ 318 1266]]\n",
      "is my accuracy equal to metrics.accuracy_score?: True\n",
      "is my accuracy equal to metrics.recall_score?: True\n"
     ]
    }
   ],
   "source": [
    "def getcalcCM(confusionMat, poplength): #confusion matrix MUST EXIST in this order (TEST, predicted)\n",
    "    specificity = confusionMat[0,0] / confusionMat[0].sum() #TN/TN+FP\n",
    "    precision = confusionMat[1,1] / (confusionMat[0,1]+confusionMat[1,1]) # TP/(TP+FP)\n",
    "    accuracy = (confusionMat[0,0]+confusionMat[1,1]) / poplength  \n",
    "    recall =  confusionMat[1,1] / confusionMat[1].sum()\n",
    "    return accuracy, precision, recall, specificity\n",
    "# check my estimators custom function is ok:\n",
    "CM = confusion_matrix(Ycr_test, predicted)\n",
    "print(CM)\n",
    "m,n,r,s = getcalcCM(CM, len(Ycr_test))\n",
    "print(\"is my accuracy equal to metrics.accuracy_score?: {}\".format(m == accuracy_score(Ycr_test,predicted)))\n",
    "print(\"is my accuracy equal to metrics.recall_score?: {}\".format(r == recall_score(Ycr_test,predicted)))"
   ]
  },
  {
   "cell_type": "code",
   "execution_count": 19,
   "metadata": {},
   "outputs": [],
   "source": [
    "# COMPARING THREE CLASSIFIERS : CART, KNN, MLP\n",
    "def CART_KNN_MLP(Xtrain, Xtest, Ytrain, Ytest):\n",
    "    dtc = DecisionTreeClassifier(random_state=1) # \"Gini\" is default\n",
    "    dtc.fit(Xtrain, Ytrain) \n",
    "    pred_tree = dtc.predict(Xtest)\n",
    "    C = confusion_matrix(Ytest,pred_tree)\n",
    "    print('CART (decision tree)')\n",
    "    acc, pr, rc, sp = getcalcCM(C, len(Ytest))\n",
    "    print('  accuracy:{0:.2f}%, precision : {1:.2f}%, recall : {2:.2f}%'.format(acc*100, pr*100, rc*100))\n",
    "    \n",
    "    knnmod = KNeighborsClassifier(n_neighbors = 5)\n",
    "    knnmod.fit(Xtrain, Ytrain)\n",
    "    predicted_knn = knnmod.predict(Xtest)\n",
    "    print('KNN, 5 neighbors')\n",
    "    C = confusion_matrix(Ytest, predicted_knn)\n",
    "    acc, pr, rc, sp = getcalcCM(C, len(Ytest))\n",
    "    print('  accuracy:{0:.2f}%, precision : {1:.2f}%, recall : {2:.2f}%'.format(acc*100, pr*100, rc*100))\n",
    "    \n",
    "    mlpcla = MLPClassifier(solver='lbfgs', alpha=1e-5, hidden_layer_sizes=(40,20), random_state=1)\n",
    "    mlpcla.fit(Xtrain, Ytrain)\n",
    "    predicted_mlp = mlpcla.predict(Xtest)\n",
    "    print('MLP: 2 layers (40,20)')\n",
    "    C = confusion_matrix(Ytest, predicted_mlp)\n",
    "    acc, pr, rc, sp = getcalcCM(C, len(Ytest))\n",
    "    print('  accuracy:{0:.2f}%, precision : {1:.2f}%, recall : {2:.2f}%'.format(acc*100, pr*100, rc*100))\n",
    "    return 'ended function'"
   ]
  },
  {
   "cell_type": "code",
   "execution_count": 20,
   "metadata": {},
   "outputs": [],
   "source": [
    "#  mlpcla = MLPClassifier(solver='lbfgs', alpha=1e-5, hidden_layer_sizes=(40,20), random_state=1)\n",
    "# TODO : ??? what are alpha and solver ????? !!!!"
   ]
  },
  {
   "cell_type": "code",
   "execution_count": 21,
   "metadata": {
    "scrolled": true
   },
   "outputs": [
    {
     "name": "stdout",
     "output_type": "stream",
     "text": [
      "CART (decision tree)\n",
      "  accuracy:72.71%, precision : 81.94%, recall : 79.92%\n",
      "KNN, 5 neighbors\n",
      "  accuracy:72.49%, precision : 77.10%, recall : 88.19%\n",
      "MLP: 2 layers (40,20)\n",
      "  accuracy:72.39%, precision : 72.39%, recall : 100.00%\n"
     ]
    },
    {
     "data": {
      "text/plain": [
       "'ended function'"
      ]
     },
     "execution_count": 21,
     "metadata": {},
     "output_type": "execute_result"
    }
   ],
   "source": [
    "# COMPARING THESE THREE CLASSIFIERS\n",
    "CART_KNN_MLP(Xcr_train, Xcr_test, Ycr_train, Ycr_test)"
   ]
  },
  {
   "cell_type": "raw",
   "metadata": {},
   "source": [
    "ERROR:  mauvaise explication!!!!!!!!!!!:    I think, for predicting the clients suitable to be receive a credit approval,  we need a higher \n",
    "*precision* rate, because even if we reject people who maybe would in reality be good credit payers,\n",
    "we do not want to risk in lending money to any single person that is likely not going to pay. A small set of clients with unpaid debts can potentially sum up big amounts of money, so we prefer to be highly selective.\n",
    ". In an opposite exemple, to detect a disease, we d prefere t o have a high recall even if \n",
    "precision is low, as we wont want to take the risk of letting people die because under-diagnosis.\n",
    "\n",
    "We show here the three parameters across all predictors, however we focus on accuracy and recall:  \n",
    " \n",
    " \n",
    " \n",
    " NOTE: .fit is \"to learn\""
   ]
  },
  {
   "cell_type": "markdown",
   "metadata": {},
   "source": [
    "#### NORMALIZED DATA :  running again CART, KNN and MLP"
   ]
  },
  {
   "cell_type": "code",
   "execution_count": 22,
   "metadata": {},
   "outputs": [],
   "source": [
    "scaler = StandardScaler()\n",
    "Xnorm_train  = scaler.fit_transform(Xcr_train)\n",
    "# learn scale params first, so they can be used later when scaling 'test' data\n",
    "Xnorm_test = scaler.transform(Xcr_test)"
   ]
  },
  {
   "cell_type": "code",
   "execution_count": 23,
   "metadata": {
    "scrolled": true
   },
   "outputs": [
    {
     "name": "stdout",
     "output_type": "stream",
     "text": [
      "CART (decision tree)\n",
      "  accuracy:72.71%, precision : 81.82%, recall : 80.11%\n",
      "KNN, 5 neighbors\n",
      "  accuracy:75.27%, precision : 81.06%, recall : 85.92%\n",
      "MLP: 2 layers (40,20)\n",
      "  accuracy:71.80%, precision : 81.66%, recall : 78.72%\n"
     ]
    },
    {
     "data": {
      "text/plain": [
       "'ended function'"
      ]
     },
     "execution_count": 23,
     "metadata": {},
     "output_type": "execute_result"
    }
   ],
   "source": [
    "CART_KNN_MLP(Xnorm_train, Xnorm_test, Ycr_train, Ycr_test)"
   ]
  },
  {
   "cell_type": "markdown",
   "metadata": {},
   "source": [
    "#### PCA as pretreatment, and  running again CART, KNN and MLP"
   ]
  },
  {
   "cell_type": "code",
   "execution_count": 24,
   "metadata": {},
   "outputs": [],
   "source": [
    "from sklearn.decomposition import PCA"
   ]
  },
  {
   "cell_type": "code",
   "execution_count": 25,
   "metadata": {},
   "outputs": [
    {
     "data": {
      "text/plain": [
       "(2187, 16)"
      ]
     },
     "execution_count": 25,
     "metadata": {},
     "output_type": "execute_result"
    }
   ],
   "source": [
    "pca = PCA(n_components=3)\n",
    "pca.fit(Xnorm_train) # here training set only\n",
    "Xpca_train = pca.transform(Xnorm_train) \n",
    "Xpca_train = np.concatenate((Xpca_train,Xnorm_train), axis=1)\n",
    "Xpca_train.shape"
   ]
  },
  {
   "cell_type": "code",
   "execution_count": 26,
   "metadata": {},
   "outputs": [
    {
     "data": {
      "text/plain": [
       "(2188, 16)"
      ]
     },
     "execution_count": 26,
     "metadata": {},
     "output_type": "execute_result"
    }
   ],
   "source": [
    "Xpca_test = pca.transform(Xnorm_test)\n",
    "Xpca_test = np.concatenate((Xpca_test,Xnorm_test), axis=1)\n",
    "Xpca_test.shape"
   ]
  },
  {
   "cell_type": "code",
   "execution_count": 27,
   "metadata": {
    "scrolled": true
   },
   "outputs": [
    {
     "name": "stdout",
     "output_type": "stream",
     "text": [
      "CART (decision tree)\n",
      "  accuracy:71.66%, precision : 82.01%, recall : 77.97%\n",
      "KNN, 5 neighbors\n",
      "  accuracy:75.64%, precision : 81.04%, recall : 86.62%\n",
      "MLP: 2 layers (40,20)\n",
      "  accuracy:72.94%, precision : 82.00%, recall : 80.24%\n"
     ]
    },
    {
     "data": {
      "text/plain": [
       "'ended function'"
      ]
     },
     "execution_count": 27,
     "metadata": {},
     "output_type": "execute_result"
    }
   ],
   "source": [
    "CART_KNN_MLP(Xpca_train, Xpca_test, Ycr_train, Ycr_test)"
   ]
  },
  {
   "cell_type": "code",
   "execution_count": 28,
   "metadata": {},
   "outputs": [],
   "source": [
    "# the worst in accuracy is CART, indeed worsen with scaling, Trees often encounter this problems, as correlation between vars is not taken in account by the algorithm\n",
    "# the best accuracy is KNN both with scaling and scalingPLUS3varPCA. \n",
    "# good balance MLP : accuracy ~2% under KNN, but precision 1% over KNN \n",
    "# ....  We care in first place about accuracy: choose betxeen KNN and MLP. \n",
    "#   PRECISION : very similar precision for knn and mlp, i'ill parameterize these two"
   ]
  },
  {
   "cell_type": "markdown",
   "metadata": {},
   "source": [
    "### Pick out variables : Random Forest"
   ]
  },
  {
   "cell_type": "code",
   "execution_count": 29,
   "metadata": {},
   "outputs": [],
   "source": [
    "from sklearn.ensemble import RandomForestClassifier"
   ]
  },
  {
   "cell_type": "code",
   "execution_count": 30,
   "metadata": {},
   "outputs": [],
   "source": [
    "def important_vars(Xtrain_scale, Y1,  nom_cols):\n",
    "    clf = RandomForestClassifier(n_estimators=100)\n",
    "    clf.fit(Xtrain_scale, Y1)\n",
    "    importances=clf.feature_importances_\n",
    "    std = np.std([tree.feature_importances_ for tree in clf.estimators_],axis=0)\n",
    "    sorted_idx = np.argsort(importances)[::-1]\n",
    "    features = nom_cols\n",
    "    print(features[sorted_idx])\n",
    "    padding = np.arange(Xtrain_scale.size/len(Xtrain_scale)) + 0.5\n",
    "    plt.barh(padding, importances[sorted_idx],xerr=std[sorted_idx], align='center')\n",
    "    plt.yticks(padding, features[sorted_idx])\n",
    "    plt.xlabel(\"Relative Importance\")\n",
    "    plt.title(\"Variable Importance\")\n",
    "    plt.show()\n",
    "    return [(i,j) for i,j in zip(features[sorted_idx], sorted_idx)]"
   ]
  },
  {
   "cell_type": "code",
   "execution_count": 31,
   "metadata": {
    "scrolled": true
   },
   "outputs": [
    {
     "name": "stdout",
     "output_type": "stream",
     "text": [
      "['Income' 'Seniority' 'Price' 'Amount' 'Age' 'Assets' 'Expenses' 'Records'\n",
      " 'Time' 'Job' 'Debt' 'Home' 'Marital']\n"
     ]
    },
    {
     "data": {
      "image/png": "[encoded data removed]",
      "text/plain": [
       "<Figure size 432x288 with 1 Axes>"
      ]
     },
     "metadata": {
      "needs_background": "light"
     },
     "output_type": "display_data"
    }
   ],
   "source": [
    "varsimpor_l = important_vars(Xnorm_train, Ycr_train, labels )"
   ]
  },
  {
   "cell_type": "code",
   "execution_count": 32,
   "metadata": {
    "scrolled": true
   },
   "outputs": [
    {
     "name": "stdout",
     "output_type": "stream",
     "text": [
      "[('Income', 8), ('Seniority', 0), ('Price', 12), ('Amount', 11), ('Age', 3), ('Assets', 9), ('Expenses', 7), ('Records', 5), ('Time', 2), ('Job', 6), ('Debt', 10), ('Home', 1), ('Marital', 4)]\n"
     ]
    }
   ],
   "source": [
    "print([t for t in varsimpor_l])"
   ]
  },
  {
   "cell_type": "code",
   "execution_count": 33,
   "metadata": {},
   "outputs": [
    {
     "data": {
      "image/png": "[encoded data removed]",
      "text/plain": [
       "<Figure size 432x288 with 1 Axes>"
      ]
     },
     "metadata": {
      "needs_background": "light"
     },
     "output_type": "display_data"
    }
   ],
   "source": [
    "def plot_accurVsVars(Xtrain_scale, Xtest_scale, Ytrain, Ytest, sorted_idx ):\n",
    "    KNN=KNeighborsClassifier(n_neighbors=5)\n",
    "    scores=np.zeros(Xtrain_scale.shape[1]+1)\n",
    "    # iteratively add variables in importance order (X starts as 1 column matrix to end up 13) \n",
    "    for f in np.arange(0, Xtrain_scale.shape[1]+1):\n",
    "        X1_f = Xtrain_scale[:,sorted_idx[:f+1]]\n",
    "        X2_f = Xtest_scale[:,sorted_idx[:f+1]]\n",
    "        KNN.fit(X1_f,Ytrain)\n",
    "        YKNN=KNN.predict(X2_f)\n",
    "        scores[f]=np.round(accuracy_score(Ytest,YKNN),3)\n",
    "    plt.plot(scores)\n",
    "    plt.xlabel(\"Nombre de Variables\")\n",
    "    plt.ylabel(\"Accuracy\")\n",
    "    plt.title(\"Evolution de l'accuracy en fonction des variables\")\n",
    "    return plt.show()\n",
    "\n",
    "plot_accurVsVars(Xnorm_train, Xnorm_test, Ycr_train, Ycr_test, [i[1] for i in varsimpor_l])    "
   ]
  },
  {
   "cell_type": "code",
   "execution_count": 34,
   "metadata": {},
   "outputs": [],
   "source": [
    "# this plot shows that accuracy achieves its max (0.76) when including 'Income'(1st) \n",
    "# to '....'(11th). \n",
    "# but be **CAREFUL**, these variables have been \"scored\" only by means of KNN \n",
    "# arbitrarily set with 5 neighbors, no tuning yet.\n",
    "# So lets  choose best parameters first\n"
   ]
  },
  {
   "cell_type": "code",
   "execution_count": null,
   "metadata": {},
   "outputs": [],
   "source": []
  },
  {
   "cell_type": "code",
   "execution_count": 35,
   "metadata": {},
   "outputs": [
    {
     "name": "stdout",
     "output_type": "stream",
     "text": [
      "{'n_neighbors': 13, 'weights': 'distance'}\n",
      "0.8068875952791092\n"
     ]
    }
   ],
   "source": [
    "# EFFICIENT PARAMETER TUNING : GridSearchCV\n",
    "## KNN : \n",
    "parknn = {  \n",
    "   'n_neighbors': [5,7,11,13,15],\n",
    "    'weights' : ['uniform', 'distance']\n",
    "} \n",
    "grid_knn = model_selection.GridSearchCV(KNeighborsClassifier(), parknn, cv=5,\n",
    "                                        refit='precision', scoring=['accuracy', 'precision'])\n",
    "grid_knn.fit(Xnorm_train, Ycr_train)\n",
    "print(grid_knn.best_params_)\n",
    "print(grid_knn.best_score_) # best precision achieved"
   ]
  },
  {
   "cell_type": "code",
   "execution_count": 36,
   "metadata": {},
   "outputs": [
    {
     "name": "stdout",
     "output_type": "stream",
     "text": [
      "0.7723948811700183\n",
      "0.8120689655172414\n"
     ]
    }
   ],
   "source": [
    "knn_pred_g = grid_knn.predict(Xnorm_test)\n",
    "print(accuracy_score(Ycr_test, knn_pred_g))\n",
    "print(precision_score(Ycr_test, knn_pred_g))"
   ]
  },
  {
   "cell_type": "code",
   "execution_count": 37,
   "metadata": {},
   "outputs": [
    {
     "name": "stdout",
     "output_type": "stream",
     "text": [
      "{'activation': 'relu', 'alpha': 0.0001, 'hidden_layer_sizes': (40, 20), 'max_iter': 100, 'solver': 'adam'}\n",
      "0.8376791123384718\n"
     ]
    }
   ],
   "source": [
    "## MLP:    ************!!!!! \n",
    "parmlp = {\n",
    "    'hidden_layer_sizes': [(40,20), (45,23) , (50,30)],\n",
    "    'activation' : ['tanh', 'relu'],\n",
    "    'alpha' : [1e-3, 1e-4, 1e-5],\n",
    "    'solver' : ['lbfgs', 'sgd', 'adam'],\n",
    "    'max_iter' : [100,200]\n",
    "}\n",
    "grid_mlp = model_selection.GridSearchCV(MLPClassifier(), parmlp, cv=5, n_jobs=4,\n",
    "                              refit='precision', scoring=['accuracy', 'precision']) \n",
    "grid_mlp.fit(Xnorm_train, Ycr_train)\n",
    "print(grid_mlp.best_params_)\n",
    "print(grid_mlp.best_score_)\n",
    "\n",
    "#  {'activation': 'relu', 'hidden_layer_sizes': (50, 30), 'solver': 'adam'}\n",
    "#0.8400811281796399\n",
    "\n",
    "# ------------------------------------------------------------------------------------\n",
    "##### toydataset ::: {'activation': 'relu', 'alpha': 1e-05, 'hidden_layer_sizes': (50, 30), 'solver': 'adam'}\n",
    "#0.8283532763532764  # but max_iter not tested yet !!!"
   ]
  },
  {
   "cell_type": "code",
   "execution_count": 38,
   "metadata": {},
   "outputs": [
    {
     "name": "stdout",
     "output_type": "stream",
     "text": [
      "0.7915904936014625\n",
      "0.8401688781664656\n"
     ]
    }
   ],
   "source": [
    "mlp_pred_g = grid_mlp.predict(Xnorm_test)\n",
    "print(accuracy_score(Ycr_test, mlp_pred_g))\n",
    "print(precision_score(Ycr_test, mlp_pred_g))"
   ]
  },
  {
   "cell_type": "code",
   "execution_count": 39,
   "metadata": {},
   "outputs": [],
   "source": [
    "# these strategies to find best parameters for a given classifier  will serve us\n",
    "# latter cause we are going to improve 'best clasifier' selection at section 'Comparing learning algorithms'"
   ]
  },
  {
   "cell_type": "code",
   "execution_count": 40,
   "metadata": {},
   "outputs": [
    {
     "name": "stdout",
     "output_type": "stream",
     "text": [
      "0.7102376599634369\n"
     ]
    }
   ],
   "source": [
    "#### A ways to 'INDUSTRIALIZE' prediction : Pipeline \n",
    "import pickle\n",
    "from sklearn.pipeline import Pipeline, FeatureUnion\n",
    "\n",
    "mixfeat = FeatureUnion([('pca', PCA(n_components=3))])\n",
    "             \n",
    "pipeline = Pipeline( [\n",
    "    ('ss', StandardScaler()),\n",
    "    ('combinedf', mixfeat),\n",
    "     ('knn', KNeighborsClassifier(n_neighbors=13, weights='distance'))\n",
    "])\n",
    "pipeline.fit(Xcr_train, Ycr_train)\n",
    "pr = pipeline.predict(Xcr_test)\n",
    "fileo = open(\"pipeBANK.pkl\", 'wb')\n",
    "pickle.dump(pipeline, fileo) # save binary\n",
    "confusion_matrix(Ycr_test, pr)\n",
    "print(accuracy_score(Ycr_test,pr))\n"
   ]
  },
  {
   "cell_type": "code",
   "execution_count": 41,
   "metadata": {},
   "outputs": [
    {
     "data": {
      "text/plain": [
       "array([[0.07661766, 0.92338234],\n",
       "       [0.53295434, 0.46704566]])"
      ]
     },
     "execution_count": 41,
     "metadata": {},
     "output_type": "execute_result"
    }
   ],
   "source": [
    "# lets say we have 2 new clients:\n",
    "Xmintest = Xcr_test[8:10,0:]  # \"2 new clients\"\n",
    "ppline=pickle.load(open( \"pipeBANK.pkl\", \"rb\" ) ) \n",
    "ppline.predict_proba(Xmintest)\n",
    "# NOTE :  ppline.predict_proba(test.values[:,var1])  # if I want to predictions for specific variable\n",
    "\n",
    "#### END Pipeline part."
   ]
  },
  {
   "cell_type": "markdown",
   "metadata": {},
   "source": [
    "## Comparing learning algorithms (Comparaison de plusieurs algorithmes d’apprentissage)"
   ]
  },
  {
   "cell_type": "code",
   "execution_count": 42,
   "metadata": {},
   "outputs": [],
   "source": [
    "from sklearn.ensemble import AdaBoostClassifier, BaggingClassifier\n",
    "from sklearn.naive_bayes import GaussianNB\n",
    "from sklearn.model_selection import cross_val_score, KFold\n",
    "import time\n",
    "clfs = {\n",
    "    'RF': RandomForestClassifier(n_estimators=50, random_state=1),\n",
    "    'KNN': KNeighborsClassifier(n_neighbors=13, weights='distance'),\n",
    "    'ADA' : AdaBoostClassifier(n_estimators=50, random_state=1),\n",
    "    'BAG' : BaggingClassifier(n_estimators=50)  \n",
    "    'MLP' : \n",
    "    'NB' : GaussianNB(),\n",
    "    'CART' : DecissionTreeClassifier(criterion='gini'),\n",
    "    'ID3' : DecisionTreeClassifier(criterion='entropy'),\n",
    "    'ST' : DecisisionTreeClassifier(max_dept=1)\n",
    "    #MLP\n",
    "}\n",
    "# 'MLP': MLPClassifier(activation=relu', hidden_layer_sizes=(50, 30), solver=adam', 'max_iter=0000')\n",
    "# NB, CART, ID3, ST  #decisionStump"
   ]
  },
  {
   "cell_type": "code",
   "execution_count": null,
   "metadata": {},
   "outputs": [],
   "source": []
  },
  {
   "cell_type": "code",
   "execution_count": 43,
   "metadata": {},
   "outputs": [],
   "source": [
    "def run_classifiers(clfs, X, Y):\n",
    "    dico = {'classifier':[],'accuracy_mean':[],'accuracy_sd':[], \n",
    "             'precision_mean':[], 'precision_sd':[],\n",
    "            'AUC':[], 'time_s':[]} #output into dictionnary\n",
    "    kf = KFold(n_splits=5, shuffle=True, random_state=0)\n",
    "    for clf_id in clfs:\n",
    "        initime = time.time()\n",
    "        clf = clfs[clf_id]\n",
    "        cvAccur = cross_val_score(clf, X, Y, cv=kf)\n",
    "        end = time.time()\n",
    "        cvPrecision = cross_val_score(clf, X, Y, cv=kf, scoring='precision')\n",
    "        cvAUC = cross_val_score(clf, X, Y, cv=kf, scoring='roc_auc')\n",
    "        dico['classifier'].append(clf_id)\n",
    "        dico['accuracy_mean'].append(round(np.mean(cvAccur),3)),\n",
    "        dico['accuracy_sd'].append(round(np.std(cvAccur),3)),\n",
    "        dico['precision_mean'].append(round(np.mean(cvPrecision),3)),\n",
    "        dico['precision_sd'].append(round(np.std(cvPrecision),3))\n",
    "        dico['AUC'].append(round(np.mean(cvAUC),3))\n",
    "        dico['time_s'].append(round((end-initime),3))\n",
    "    return dico\n",
    "        \n",
    "        "
   ]
  },
  {
   "cell_type": "code",
   "execution_count": 44,
   "metadata": {},
   "outputs": [
    {
     "data": {
      "text/html": [
       "<div>\n",
       "<style scoped>\n",
       "    .dataframe tbody tr th:only-of-type {\n",
       "        vertical-align: middle;\n",
       "    }\n",
       "\n",
       "    .dataframe tbody tr th {\n",
       "        vertical-align: top;\n",
       "    }\n",
       "\n",
       "    .dataframe thead th {\n",
       "        text-align: right;\n",
       "    }\n",
       "</style>\n",
       "<table border=\"1\" class=\"dataframe\">\n",
       "  <thead>\n",
       "    <tr style=\"text-align: right;\">\n",
       "      <th></th>\n",
       "      <th>classifier</th>\n",
       "      <th>accuracy_mean</th>\n",
       "      <th>accuracy_sd</th>\n",
       "      <th>precision_mean</th>\n",
       "      <th>precision_sd</th>\n",
       "      <th>AUC</th>\n",
       "      <th>time_s</th>\n",
       "    </tr>\n",
       "  </thead>\n",
       "  <tbody>\n",
       "    <tr>\n",
       "      <th>0</th>\n",
       "      <td>RF</td>\n",
       "      <td>0.780</td>\n",
       "      <td>0.046</td>\n",
       "      <td>0.803</td>\n",
       "      <td>0.050</td>\n",
       "      <td>0.824</td>\n",
       "      <td>0.375</td>\n",
       "    </tr>\n",
       "    <tr>\n",
       "      <th>1</th>\n",
       "      <td>KNN</td>\n",
       "      <td>0.725</td>\n",
       "      <td>0.016</td>\n",
       "      <td>0.763</td>\n",
       "      <td>0.022</td>\n",
       "      <td>0.676</td>\n",
       "      <td>0.009</td>\n",
       "    </tr>\n",
       "    <tr>\n",
       "      <th>2</th>\n",
       "      <td>ADA</td>\n",
       "      <td>0.765</td>\n",
       "      <td>0.037</td>\n",
       "      <td>0.815</td>\n",
       "      <td>0.050</td>\n",
       "      <td>0.714</td>\n",
       "      <td>0.363</td>\n",
       "    </tr>\n",
       "    <tr>\n",
       "      <th>3</th>\n",
       "      <td>BAG</td>\n",
       "      <td>0.780</td>\n",
       "      <td>0.070</td>\n",
       "      <td>0.806</td>\n",
       "      <td>0.054</td>\n",
       "      <td>0.802</td>\n",
       "      <td>0.462</td>\n",
       "    </tr>\n",
       "  </tbody>\n",
       "</table>\n",
       "</div>"
      ],
      "text/plain": [
       "  classifier  accuracy_mean  accuracy_sd  precision_mean  precision_sd    AUC  \\\n",
       "0         RF          0.780        0.046           0.803         0.050  0.824   \n",
       "1        KNN          0.725        0.016           0.763         0.022  0.676   \n",
       "2        ADA          0.765        0.037           0.815         0.050  0.714   \n",
       "3        BAG          0.780        0.070           0.806         0.054  0.802   \n",
       "\n",
       "   time_s  \n",
       "0   0.375  \n",
       "1   0.009  \n",
       "2   0.363  \n",
       "3   0.462  "
      ]
     },
     "execution_count": 44,
     "metadata": {},
     "output_type": "execute_result"
    }
   ],
   "source": [
    "Xtoy = Xcr_train[0:200,0:]\n",
    "Ytoy = Ycr_train[0:200]\n",
    "\n",
    "dd = run_classifiers(clfs, Xtoy, Ytoy)\n",
    "pd.DataFrame.from_dict(dd)"
   ]
  },
  {
   "cell_type": "code",
   "execution_count": null,
   "metadata": {},
   "outputs": [],
   "source": []
  },
  {
   "cell_type": "markdown",
   "metadata": {},
   "source": [
    "# II. Heterogeneous Data"
   ]
  },
  {
   "cell_type": "code",
   "execution_count": 45,
   "metadata": {},
   "outputs": [],
   "source": [
    "hetcr = pd.read_csv(\"credit.data\", sep='\\t', header=None)"
   ]
  },
  {
   "cell_type": "code",
   "execution_count": 46,
   "metadata": {},
   "outputs": [
    {
     "data": {
      "text/html": [
       "<div>\n",
       "<style scoped>\n",
       "    .dataframe tbody tr th:only-of-type {\n",
       "        vertical-align: middle;\n",
       "    }\n",
       "\n",
       "    .dataframe tbody tr th {\n",
       "        vertical-align: top;\n",
       "    }\n",
       "\n",
       "    .dataframe thead th {\n",
       "        text-align: right;\n",
       "    }\n",
       "</style>\n",
       "<table border=\"1\" class=\"dataframe\">\n",
       "  <thead>\n",
       "    <tr style=\"text-align: right;\">\n",
       "      <th></th>\n",
       "      <th>0</th>\n",
       "      <th>1</th>\n",
       "      <th>2</th>\n",
       "      <th>3</th>\n",
       "      <th>4</th>\n",
       "      <th>5</th>\n",
       "      <th>6</th>\n",
       "      <th>7</th>\n",
       "      <th>8</th>\n",
       "      <th>9</th>\n",
       "      <th>10</th>\n",
       "      <th>11</th>\n",
       "      <th>12</th>\n",
       "      <th>13</th>\n",
       "      <th>14</th>\n",
       "      <th>15</th>\n",
       "    </tr>\n",
       "  </thead>\n",
       "  <tbody>\n",
       "    <tr>\n",
       "      <th>0</th>\n",
       "      <td>b</td>\n",
       "      <td>30.83</td>\n",
       "      <td>0.00</td>\n",
       "      <td>u</td>\n",
       "      <td>g</td>\n",
       "      <td>w</td>\n",
       "      <td>v</td>\n",
       "      <td>1.25</td>\n",
       "      <td>t</td>\n",
       "      <td>t</td>\n",
       "      <td>1</td>\n",
       "      <td>f</td>\n",
       "      <td>g</td>\n",
       "      <td>202</td>\n",
       "      <td>0</td>\n",
       "      <td>+</td>\n",
       "    </tr>\n",
       "    <tr>\n",
       "      <th>1</th>\n",
       "      <td>a</td>\n",
       "      <td>58.67</td>\n",
       "      <td>4.46</td>\n",
       "      <td>u</td>\n",
       "      <td>g</td>\n",
       "      <td>q</td>\n",
       "      <td>h</td>\n",
       "      <td>3.04</td>\n",
       "      <td>t</td>\n",
       "      <td>t</td>\n",
       "      <td>6</td>\n",
       "      <td>f</td>\n",
       "      <td>g</td>\n",
       "      <td>43</td>\n",
       "      <td>560</td>\n",
       "      <td>+</td>\n",
       "    </tr>\n",
       "  </tbody>\n",
       "</table>\n",
       "</div>"
      ],
      "text/plain": [
       "  0      1     2  3  4  5  6     7  8  9   10 11 12   13   14 15\n",
       "0  b  30.83  0.00  u  g  w  v  1.25  t  t   1  f  g  202    0  +\n",
       "1  a  58.67  4.46  u  g  q  h  3.04  t  t   6  f  g   43  560  +"
      ]
     },
     "execution_count": 46,
     "metadata": {},
     "output_type": "execute_result"
    }
   ],
   "source": [
    "hetcr.head(2)  # as we see, column names are just numbers from 0 to 15"
   ]
  },
  {
   "cell_type": "code",
   "execution_count": 47,
   "metadata": {
    "scrolled": true
   },
   "outputs": [
    {
     "name": "stdout",
     "output_type": "stream",
     "text": [
      "False\n"
     ]
    }
   ],
   "source": [
    "rawM = hetcr.values\n",
    "X = np.copy(rawM[:,0:15]) # variables caractéristiques\n",
    "Y = np.copy(rawM[:,15]) # var à prédire (target)\n",
    "Y[Y == '+'] = 1\n",
    "Y[Y == '-'] = 0\n",
    "Y = Y.astype(int)\n",
    "col_num = [1, 2, 7, 10, 13, 14 ]  # numerical vars\n",
    "col_cat = [i for i in range(15) if i not in col_num] # categorical\n",
    "print(np.isnan(Y[0]))  # check Y does not contain missing values "
   ]
  },
  {
   "cell_type": "markdown",
   "metadata": {},
   "source": [
    "**Missing values**:\n",
    "- first approach using only numerical variables and droping out individuals having missing values\n",
    "- secondly, imputation method to both numerical and categorical missing values,  and concatenate both to run classifiers."
   ]
  },
  {
   "cell_type": "code",
   "execution_count": 48,
   "metadata": {},
   "outputs": [],
   "source": [
    "X_num = np.copy(X[:, col_num])  # get only numerical\n",
    "X_num[X_num == '?'] = np.nan  # missing values in X set to nan\n",
    "X_num = X_num.astype(float)"
   ]
  },
  {
   "cell_type": "code",
   "execution_count": 49,
   "metadata": {},
   "outputs": [],
   "source": [
    "# delete subjects, from X and Y,  having nan in at least one column in X\n",
    "Ycut = Y[~np.isnan(X_num).any(axis=1)]\n",
    "Xnumcut = X_num[~np.isnan(X_num).any(axis=1)]"
   ]
  },
  {
   "cell_type": "code",
   "execution_count": 50,
   "metadata": {},
   "outputs": [
    {
     "data": {
      "text/plain": [
       "((666, 6), (666,))"
      ]
     },
     "execution_count": 50,
     "metadata": {},
     "output_type": "execute_result"
    }
   ],
   "source": [
    "Xnumcut.shape, Ycut.shape"
   ]
  },
  {
   "cell_type": "code",
   "execution_count": 51,
   "metadata": {},
   "outputs": [
    {
     "data": {
      "text/plain": [
       "(array([367.,   0.,   0.,   0.,   0.,   0.,   0.,   0.,   0., 299.]),\n",
       " array([0. , 0.1, 0.2, 0.3, 0.4, 0.5, 0.6, 0.7, 0.8, 0.9, 1. ]),\n",
       " <BarContainer object of 10 artists>)"
      ]
     },
     "execution_count": 51,
     "metadata": {},
     "output_type": "execute_result"
    },
    {
     "data": {
      "image/png": "[encoded data removed]",
      "text/plain": [
       "<Figure size 432x288 with 1 Axes>"
      ]
     },
     "metadata": {
      "needs_background": "light"
     },
     "output_type": "display_data"
    }
   ],
   "source": [
    "plt.hist(Ycut)"
   ]
  },
  {
   "cell_type": "code",
   "execution_count": 52,
   "metadata": {},
   "outputs": [
    {
     "data": {
      "text/plain": [
       "(array([383.,   0.,   0.,   0.,   0.,   0.,   0.,   0.,   0., 305.]),\n",
       " array([0. , 0.1, 0.2, 0.3, 0.4, 0.5, 0.6, 0.7, 0.8, 0.9, 1. ]),\n",
       " <BarContainer object of 10 artists>)"
      ]
     },
     "execution_count": 52,
     "metadata": {},
     "output_type": "execute_result"
    },
    {
     "data": {
      "image/png": "[encoded data removed]",
      "text/plain": [
       "<Figure size 432x288 with 1 Axes>"
      ]
     },
     "metadata": {
      "needs_background": "light"
     },
     "output_type": "display_data"
    }
   ],
   "source": [
    "plt.hist(Y)"
   ]
  },
  {
   "cell_type": "code",
   "execution_count": 53,
   "metadata": {},
   "outputs": [
    {
     "data": {
      "text/html": [
       "<div>\n",
       "<style scoped>\n",
       "    .dataframe tbody tr th:only-of-type {\n",
       "        vertical-align: middle;\n",
       "    }\n",
       "\n",
       "    .dataframe tbody tr th {\n",
       "        vertical-align: top;\n",
       "    }\n",
       "\n",
       "    .dataframe thead th {\n",
       "        text-align: right;\n",
       "    }\n",
       "</style>\n",
       "<table border=\"1\" class=\"dataframe\">\n",
       "  <thead>\n",
       "    <tr style=\"text-align: right;\">\n",
       "      <th></th>\n",
       "      <th>classifier</th>\n",
       "      <th>accuracy_mean</th>\n",
       "      <th>accuracy_sd</th>\n",
       "      <th>precision_mean</th>\n",
       "      <th>precision_sd</th>\n",
       "      <th>AUC</th>\n",
       "      <th>time_s</th>\n",
       "    </tr>\n",
       "  </thead>\n",
       "  <tbody>\n",
       "    <tr>\n",
       "      <th>0</th>\n",
       "      <td>RF</td>\n",
       "      <td>0.790</td>\n",
       "      <td>0.042</td>\n",
       "      <td>0.803</td>\n",
       "      <td>0.034</td>\n",
       "      <td>0.855</td>\n",
       "      <td>0.452</td>\n",
       "    </tr>\n",
       "    <tr>\n",
       "      <th>1</th>\n",
       "      <td>KNN</td>\n",
       "      <td>0.695</td>\n",
       "      <td>0.031</td>\n",
       "      <td>0.707</td>\n",
       "      <td>0.044</td>\n",
       "      <td>0.748</td>\n",
       "      <td>0.013</td>\n",
       "    </tr>\n",
       "    <tr>\n",
       "      <th>2</th>\n",
       "      <td>ADA</td>\n",
       "      <td>0.781</td>\n",
       "      <td>0.023</td>\n",
       "      <td>0.790</td>\n",
       "      <td>0.053</td>\n",
       "      <td>0.830</td>\n",
       "      <td>0.402</td>\n",
       "    </tr>\n",
       "    <tr>\n",
       "      <th>3</th>\n",
       "      <td>BAG</td>\n",
       "      <td>0.791</td>\n",
       "      <td>0.040</td>\n",
       "      <td>0.772</td>\n",
       "      <td>0.036</td>\n",
       "      <td>0.828</td>\n",
       "      <td>0.607</td>\n",
       "    </tr>\n",
       "  </tbody>\n",
       "</table>\n",
       "</div>"
      ],
      "text/plain": [
       "  classifier  accuracy_mean  accuracy_sd  precision_mean  precision_sd    AUC  \\\n",
       "0         RF          0.790        0.042           0.803         0.034  0.855   \n",
       "1        KNN          0.695        0.031           0.707         0.044  0.748   \n",
       "2        ADA          0.781        0.023           0.790         0.053  0.830   \n",
       "3        BAG          0.791        0.040           0.772         0.036  0.828   \n",
       "\n",
       "   time_s  \n",
       "0   0.452  \n",
       "1   0.013  \n",
       "2   0.402  \n",
       "3   0.607  "
      ]
     },
     "execution_count": 53,
     "metadata": {},
     "output_type": "execute_result"
    }
   ],
   "source": [
    "hetercl = run_classifiers(clfs, Xnumcut, Ycut)\n",
    "pd.DataFrame.from_dict(hetercl)"
   ]
  },
  {
   "cell_type": "code",
   "execution_count": null,
   "metadata": {
    "scrolled": true
   },
   "outputs": [],
   "source": [
    "\n"
   ]
  },
  {
   "cell_type": "code",
   "execution_count": 54,
   "metadata": {},
   "outputs": [],
   "source": [
    "## -- Centered-reduced data:\n",
    "scaler = StandardScaler()\n",
    "Xnormcut = scaler.fit_transform(Xnumcut)\n",
    "# run this !!!!!:\n",
    "# hetercl = run_classifiers(clfs, Xnormcut, Ycut)\n",
    "# pd.DataFrame.from_dict(hetercl)"
   ]
  },
  {
   "cell_type": "code",
   "execution_count": 55,
   "metadata": {
    "scrolled": true
   },
   "outputs": [],
   "source": [
    "# ------ This time to full X,  impute variables including categorical ones"
   ]
  },
  {
   "cell_type": "code",
   "execution_count": 56,
   "metadata": {},
   "outputs": [],
   "source": [
    "from sklearn.impute import SimpleImputer as Imputer\n",
    "from sklearn.preprocessing import OneHotEncoder"
   ]
  },
  {
   "cell_type": "code",
   "execution_count": 57,
   "metadata": {},
   "outputs": [],
   "source": [
    "# treat numerical variables : \n",
    "imp_num = Imputer(missing_values=np.nan, strategy='mean')\n",
    "X_num = imp_num.fit_transform(X_num)"
   ]
  },
  {
   "cell_type": "code",
   "execution_count": 58,
   "metadata": {
    "scrolled": true
   },
   "outputs": [],
   "source": [
    "# treat categorical variables\n",
    "X_cat = np.copy(X[:, col_cat])\n",
    "for col_id in range(len(col_cat)):\n",
    "    unique_val, val_idx = np.unique(X_cat[:, col_id], return_inverse=True)\n",
    "    X_cat[:, col_id] = val_idx\n",
    "imp_cat = Imputer(missing_values=0, strategy='most_frequent')\n",
    "X_cat[:, range(5)] = imp_cat.fit_transform(X_cat[:, range(5)])\n",
    "# to be able to use in run_classifiers, for a given variable\n",
    "# transform m categories into m binary vars, being only one active\n",
    "X_cat_bin = OneHotEncoder().fit_transform(X_cat).toarray()"
   ]
  },
  {
   "cell_type": "code",
   "execution_count": 59,
   "metadata": {},
   "outputs": [
    {
     "data": {
      "text/html": [
       "<div>\n",
       "<style scoped>\n",
       "    .dataframe tbody tr th:only-of-type {\n",
       "        vertical-align: middle;\n",
       "    }\n",
       "\n",
       "    .dataframe tbody tr th {\n",
       "        vertical-align: top;\n",
       "    }\n",
       "\n",
       "    .dataframe thead th {\n",
       "        text-align: right;\n",
       "    }\n",
       "</style>\n",
       "<table border=\"1\" class=\"dataframe\">\n",
       "  <thead>\n",
       "    <tr style=\"text-align: right;\">\n",
       "      <th></th>\n",
       "      <th>classifier</th>\n",
       "      <th>accuracy_mean</th>\n",
       "      <th>accuracy_sd</th>\n",
       "      <th>precision_mean</th>\n",
       "      <th>precision_sd</th>\n",
       "      <th>AUC</th>\n",
       "      <th>time_s</th>\n",
       "    </tr>\n",
       "  </thead>\n",
       "  <tbody>\n",
       "    <tr>\n",
       "      <th>0</th>\n",
       "      <td>RF</td>\n",
       "      <td>0.869</td>\n",
       "      <td>0.025</td>\n",
       "      <td>0.855</td>\n",
       "      <td>0.046</td>\n",
       "      <td>0.932</td>\n",
       "      <td>0.434</td>\n",
       "    </tr>\n",
       "    <tr>\n",
       "      <th>1</th>\n",
       "      <td>KNN</td>\n",
       "      <td>0.685</td>\n",
       "      <td>0.033</td>\n",
       "      <td>0.696</td>\n",
       "      <td>0.050</td>\n",
       "      <td>0.734</td>\n",
       "      <td>0.017</td>\n",
       "    </tr>\n",
       "    <tr>\n",
       "      <th>2</th>\n",
       "      <td>ADA</td>\n",
       "      <td>0.853</td>\n",
       "      <td>0.024</td>\n",
       "      <td>0.829</td>\n",
       "      <td>0.043</td>\n",
       "      <td>0.923</td>\n",
       "      <td>0.529</td>\n",
       "    </tr>\n",
       "    <tr>\n",
       "      <th>3</th>\n",
       "      <td>BAG</td>\n",
       "      <td>0.863</td>\n",
       "      <td>0.021</td>\n",
       "      <td>0.838</td>\n",
       "      <td>0.042</td>\n",
       "      <td>0.929</td>\n",
       "      <td>0.687</td>\n",
       "    </tr>\n",
       "  </tbody>\n",
       "</table>\n",
       "</div>"
      ],
      "text/plain": [
       "  classifier  accuracy_mean  accuracy_sd  precision_mean  precision_sd    AUC  \\\n",
       "0         RF          0.869        0.025           0.855         0.046  0.932   \n",
       "1        KNN          0.685        0.033           0.696         0.050  0.734   \n",
       "2        ADA          0.853        0.024           0.829         0.043  0.923   \n",
       "3        BAG          0.863        0.021           0.838         0.042  0.929   \n",
       "\n",
       "   time_s  \n",
       "0   0.434  \n",
       "1   0.017  \n",
       "2   0.529  \n",
       "3   0.687  "
      ]
     },
     "execution_count": 59,
     "metadata": {},
     "output_type": "execute_result"
    }
   ],
   "source": [
    "Xmerge = np.concatenate((X_num,X_cat),axis=1)\n",
    "Xmerge.shape\n",
    "hetercl = run_classifiers(clfs, Xmerge, Y)\n",
    "pd.DataFrame.from_dict(hetercl)"
   ]
  },
  {
   "cell_type": "code",
   "execution_count": null,
   "metadata": {},
   "outputs": [],
   "source": []
  },
  {
   "cell_type": "markdown",
   "metadata": {},
   "source": [
    "# III. Textual data : Feature engineering et Classification"
   ]
  },
  {
   "cell_type": "code",
   "execution_count": 60,
   "metadata": {},
   "outputs": [
    {
     "data": {
      "text/html": [
       "<div>\n",
       "<style scoped>\n",
       "    .dataframe tbody tr th:only-of-type {\n",
       "        vertical-align: middle;\n",
       "    }\n",
       "\n",
       "    .dataframe tbody tr th {\n",
       "        vertical-align: top;\n",
       "    }\n",
       "\n",
       "    .dataframe thead th {\n",
       "        text-align: right;\n",
       "    }\n",
       "</style>\n",
       "<table border=\"1\" class=\"dataframe\">\n",
       "  <thead>\n",
       "    <tr style=\"text-align: right;\">\n",
       "      <th></th>\n",
       "      <th>0</th>\n",
       "      <th>1</th>\n",
       "    </tr>\n",
       "  </thead>\n",
       "  <tbody>\n",
       "    <tr>\n",
       "      <th>0</th>\n",
       "      <td>ham</td>\n",
       "      <td>Go until jurong point, crazy.. Available only ...</td>\n",
       "    </tr>\n",
       "    <tr>\n",
       "      <th>1</th>\n",
       "      <td>ham</td>\n",
       "      <td>Ok lar... Joking wif u oni...</td>\n",
       "    </tr>\n",
       "    <tr>\n",
       "      <th>2</th>\n",
       "      <td>spam</td>\n",
       "      <td>Free entry in 2 a wkly comp to win FA Cup fina...</td>\n",
       "    </tr>\n",
       "  </tbody>\n",
       "</table>\n",
       "</div>"
      ],
      "text/plain": [
       "      0                                                  1\n",
       "0   ham  Go until jurong point, crazy.. Available only ...\n",
       "1   ham                      Ok lar... Joking wif u oni...\n",
       "2  spam  Free entry in 2 a wkly comp to win FA Cup fina..."
      ]
     },
     "execution_count": 60,
     "metadata": {},
     "output_type": "execute_result"
    }
   ],
   "source": [
    "smsall = pd.read_csv(\"SMSSpamCollection.data\", sep=\"\\t\", header=None)\n",
    "smsall.head(3)"
   ]
  },
  {
   "cell_type": "code",
   "execution_count": null,
   "metadata": {},
   "outputs": [],
   "source": []
  },
  {
   "cell_type": "code",
   "execution_count": null,
   "metadata": {},
   "outputs": [],
   "source": []
  },
  {
   "cell_type": "code",
   "execution_count": null,
   "metadata": {},
   "outputs": [],
   "source": []
  }
 ],
 "metadata": {
  "kernelspec": {
   "display_name": "Python 3",
   "language": "python",
   "name": "python3"
  },
  "language_info": {
   "codemirror_mode": {
    "name": "ipython",
    "version": 3
   },
   "file_extension": ".py",
   "mimetype": "text/x-python",
   "name": "python",
   "nbconvert_exporter": "python",
   "pygments_lexer": "ipython3",
   "version": "3.8.5"
  }
 },
 "nbformat": 4,
 "nbformat_minor": 4
}
